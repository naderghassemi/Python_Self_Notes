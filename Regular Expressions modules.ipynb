{
 "cells": [
  {
   "cell_type": "code",
   "execution_count": 18,
   "id": "9a6f7565",
   "metadata": {},
   "outputs": [],
   "source": [
    "text=\"My phone number is 408-555-8888\""
   ]
  },
  {
   "cell_type": "code",
   "execution_count": 19,
   "id": "03124756",
   "metadata": {},
   "outputs": [],
   "source": [
    "import re"
   ]
  },
  {
   "cell_type": "code",
   "execution_count": 20,
   "id": "23c0aae2",
   "metadata": {},
   "outputs": [],
   "source": [
    "phone=re.search(\"408-555-8888\", text)"
   ]
  },
  {
   "cell_type": "code",
   "execution_count": 21,
   "id": "fe4c3ea2",
   "metadata": {},
   "outputs": [
    {
     "data": {
      "text/plain": [
       "<re.Match object; span=(19, 31), match='408-555-8888'>"
      ]
     },
     "execution_count": 21,
     "metadata": {},
     "output_type": "execute_result"
    }
   ],
   "source": [
    "phone"
   ]
  },
  {
   "cell_type": "code",
   "execution_count": 22,
   "id": "4cb5cf7f",
   "metadata": {},
   "outputs": [],
   "source": [
    "phone=re.search(r\"\\d\\d\\d-\\d\\d\\d-\\d\\d\\d\\d\", text )"
   ]
  },
  {
   "cell_type": "code",
   "execution_count": 23,
   "id": "44bbb1f3",
   "metadata": {},
   "outputs": [
    {
     "data": {
      "text/plain": [
       "<re.Match object; span=(19, 31), match='408-555-8888'>"
      ]
     },
     "execution_count": 23,
     "metadata": {},
     "output_type": "execute_result"
    }
   ],
   "source": [
    "phone"
   ]
  },
  {
   "cell_type": "code",
   "execution_count": 24,
   "id": "3a9a11d3",
   "metadata": {},
   "outputs": [
    {
     "data": {
      "text/plain": [
       "'408-555-8888'"
      ]
     },
     "execution_count": 24,
     "metadata": {},
     "output_type": "execute_result"
    }
   ],
   "source": [
    "phone.group()"
   ]
  },
  {
   "cell_type": "code",
   "execution_count": 26,
   "id": "d6f5889c",
   "metadata": {},
   "outputs": [],
   "source": [
    "phone2=re.search(r\"\\d{3}-\\d{3}-\\d{4}\", text )"
   ]
  },
  {
   "cell_type": "code",
   "execution_count": 28,
   "id": "d0d4ea9f",
   "metadata": {},
   "outputs": [
    {
     "data": {
      "text/plain": [
       "'408-555-8888'"
      ]
     },
     "execution_count": 28,
     "metadata": {},
     "output_type": "execute_result"
    }
   ],
   "source": [
    "phone2.group()"
   ]
  },
  {
   "cell_type": "code",
   "execution_count": 32,
   "id": "c8a69351",
   "metadata": {},
   "outputs": [],
   "source": [
    "phone_pattern=re.compile(r'(\\d{3})-(\\d{3})-(\\d{4})')"
   ]
  },
  {
   "cell_type": "code",
   "execution_count": 33,
   "id": "b711e9f0",
   "metadata": {},
   "outputs": [],
   "source": [
    "results=re.search(phone_pattern,text)"
   ]
  },
  {
   "cell_type": "code",
   "execution_count": 37,
   "id": "fc598b89",
   "metadata": {},
   "outputs": [
    {
     "data": {
      "text/plain": [
       "'8888'"
      ]
     },
     "execution_count": 37,
     "metadata": {},
     "output_type": "execute_result"
    }
   ],
   "source": [
    "results.group(3)"
   ]
  },
  {
   "cell_type": "code",
   "execution_count": 38,
   "id": "d2dd0747",
   "metadata": {},
   "outputs": [],
   "source": [
    "phrase='there are 3 numbers 34 inside 5 this sentence'"
   ]
  },
  {
   "cell_type": "code",
   "execution_count": 39,
   "id": "dc63b0ca",
   "metadata": {},
   "outputs": [],
   "source": [
    "pattern=r'[^\\d]'"
   ]
  },
  {
   "cell_type": "code",
   "execution_count": 40,
   "id": "1be94b78",
   "metadata": {},
   "outputs": [
    {
     "data": {
      "text/plain": [
       "['t',\n",
       " 'h',\n",
       " 'e',\n",
       " 'r',\n",
       " 'e',\n",
       " ' ',\n",
       " 'a',\n",
       " 'r',\n",
       " 'e',\n",
       " ' ',\n",
       " ' ',\n",
       " 'n',\n",
       " 'u',\n",
       " 'm',\n",
       " 'b',\n",
       " 'e',\n",
       " 'r',\n",
       " 's',\n",
       " ' ',\n",
       " ' ',\n",
       " 'i',\n",
       " 'n',\n",
       " 's',\n",
       " 'i',\n",
       " 'd',\n",
       " 'e',\n",
       " ' ',\n",
       " ' ',\n",
       " 't',\n",
       " 'h',\n",
       " 'i',\n",
       " 's',\n",
       " ' ',\n",
       " 's',\n",
       " 'e',\n",
       " 'n',\n",
       " 't',\n",
       " 'e',\n",
       " 'n',\n",
       " 'c',\n",
       " 'e']"
      ]
     },
     "execution_count": 40,
     "metadata": {},
     "output_type": "execute_result"
    }
   ],
   "source": [
    "re.findall(pattern,phrase)"
   ]
  },
  {
   "cell_type": "code",
   "execution_count": 41,
   "id": "5ada1c31",
   "metadata": {},
   "outputs": [
    {
     "data": {
      "text/plain": [
       "<re.Match object; span=(5, 8), match='cat'>"
      ]
     },
     "execution_count": 41,
     "metadata": {},
     "output_type": "execute_result"
    }
   ],
   "source": [
    "re.search(r\"cat|dog\", \"This cat is here\")"
   ]
  },
  {
   "cell_type": "code",
   "execution_count": 42,
   "id": "5676e3dc",
   "metadata": {},
   "outputs": [
    {
     "data": {
      "text/plain": [
       "['at', 'at', 'at']"
      ]
     },
     "execution_count": 42,
     "metadata": {},
     "output_type": "execute_result"
    }
   ],
   "source": [
    "re.findall(r'at', 'The cat in the hat sat there')"
   ]
  },
  {
   "cell_type": "code",
   "execution_count": 43,
   "id": "44a58ff3",
   "metadata": {},
   "outputs": [
    {
     "data": {
      "text/plain": [
       "['cat', 'hat', 'sat']"
      ]
     },
     "execution_count": 43,
     "metadata": {},
     "output_type": "execute_result"
    }
   ],
   "source": [
    "re.findall(r'.at', 'The cat in the hat sat there')"
   ]
  },
  {
   "cell_type": "code",
   "execution_count": 45,
   "id": "3ccc7d50",
   "metadata": {},
   "outputs": [
    {
     "data": {
      "text/plain": [
       "['e cat', 'e hat']"
      ]
     },
     "execution_count": 45,
     "metadata": {},
     "output_type": "execute_result"
    }
   ],
   "source": [
    "re.findall(r'...at', 'The cat in the hat sat there')"
   ]
  },
  {
   "cell_type": "code",
   "execution_count": 47,
   "id": "aab1f635",
   "metadata": {},
   "outputs": [
    {
     "data": {
      "text/plain": [
       "[]"
      ]
     },
     "execution_count": 47,
     "metadata": {},
     "output_type": "execute_result"
    }
   ],
   "source": [
    "re.findall(r'^\\d', 'The 1 is a number')"
   ]
  },
  {
   "cell_type": "code",
   "execution_count": 48,
   "id": "cee72b3a",
   "metadata": {},
   "outputs": [
    {
     "data": {
      "text/plain": [
       "['2']"
      ]
     },
     "execution_count": 48,
     "metadata": {},
     "output_type": "execute_result"
    }
   ],
   "source": [
    "re.findall(r'\\d$', 'The 1 is a number bu the othe one is not 2')"
   ]
  },
  {
   "cell_type": "code",
   "execution_count": 49,
   "id": "856058ee",
   "metadata": {},
   "outputs": [],
   "source": [
    "phrase ='There are 3 numbers 34 insde 5 this sentence'"
   ]
  },
  {
   "cell_type": "code",
   "execution_count": 52,
   "id": "659bc977",
   "metadata": {},
   "outputs": [],
   "source": [
    "pattern= r'[^\\d]+'"
   ]
  },
  {
   "cell_type": "code",
   "execution_count": 53,
   "id": "272d969f",
   "metadata": {},
   "outputs": [
    {
     "data": {
      "text/plain": [
       "['There are ', ' numbers ', ' insde ', ' this sentence']"
      ]
     },
     "execution_count": 53,
     "metadata": {},
     "output_type": "execute_result"
    }
   ],
   "source": [
    "re.findall(pattern,phrase)"
   ]
  },
  {
   "cell_type": "code",
   "execution_count": 54,
   "id": "62f08bee",
   "metadata": {},
   "outputs": [],
   "source": [
    "test_phrase='This is a string! But it has punctuation. How can we remove it?'"
   ]
  },
  {
   "cell_type": "code",
   "execution_count": 57,
   "id": "318dca60",
   "metadata": {},
   "outputs": [],
   "source": [
    "clean=re.findall(r'[^!.? ]+', test_phrase)"
   ]
  },
  {
   "cell_type": "code",
   "execution_count": 58,
   "id": "ac6eb965",
   "metadata": {},
   "outputs": [
    {
     "data": {
      "text/plain": [
       "'This is a string But it has punctuation How can we remove it'"
      ]
     },
     "execution_count": 58,
     "metadata": {},
     "output_type": "execute_result"
    }
   ],
   "source": [
    "' '.join(clean)"
   ]
  },
  {
   "cell_type": "code",
   "execution_count": 59,
   "id": "7d13e077",
   "metadata": {},
   "outputs": [],
   "source": [
    "text=\"only find the hypen-words in this sentence.But you do not know how long-ish they are\""
   ]
  },
  {
   "cell_type": "code",
   "execution_count": 63,
   "id": "c043caab",
   "metadata": {},
   "outputs": [],
   "source": [
    "pattern=r'[\\w]+-[\\w]+'"
   ]
  },
  {
   "cell_type": "code",
   "execution_count": 65,
   "id": "77ef7782",
   "metadata": {},
   "outputs": [
    {
     "data": {
      "text/plain": [
       "['hypen-words', 'long-ish']"
      ]
     },
     "execution_count": 65,
     "metadata": {},
     "output_type": "execute_result"
    }
   ],
   "source": [
    "re.findall(pattern,text)"
   ]
  },
  {
   "cell_type": "code",
   "execution_count": 68,
   "id": "1b17948a",
   "metadata": {},
   "outputs": [],
   "source": [
    "pattern=r'\\w+-\\w+'"
   ]
  },
  {
   "cell_type": "code",
   "execution_count": 69,
   "id": "0ab1114b",
   "metadata": {},
   "outputs": [
    {
     "data": {
      "text/plain": [
       "['hypen-words', 'long-ish']"
      ]
     },
     "execution_count": 69,
     "metadata": {},
     "output_type": "execute_result"
    }
   ],
   "source": [
    "re.findall(pattern,text)"
   ]
  },
  {
   "cell_type": "code",
   "execution_count": 70,
   "id": "67ebe872",
   "metadata": {},
   "outputs": [],
   "source": [
    "text = 'Hello, would you like some catfish?'\n",
    "texttwo = \"Hello, would you like to take a catnap?\"\n",
    "textthree = \"Hello, have you seen this caterpillar?\""
   ]
  },
  {
   "cell_type": "code",
   "execution_count": 71,
   "id": "c1ad3ea9",
   "metadata": {},
   "outputs": [
    {
     "data": {
      "text/plain": [
       "<re.Match object; span=(27, 34), match='catfish'>"
      ]
     },
     "execution_count": 71,
     "metadata": {},
     "output_type": "execute_result"
    }
   ],
   "source": [
    "re.search(r'cat(fish|nap|claw)',text)"
   ]
  },
  {
   "cell_type": "code",
   "execution_count": 72,
   "id": "3d167063",
   "metadata": {},
   "outputs": [
    {
     "data": {
      "text/plain": [
       "<re.Match object; span=(32, 38), match='catnap'>"
      ]
     },
     "execution_count": 72,
     "metadata": {},
     "output_type": "execute_result"
    }
   ],
   "source": [
    "re.search(r'cat(fish|nap|claw)',texttwo)"
   ]
  },
  {
   "cell_type": "code",
   "execution_count": 73,
   "id": "75232954",
   "metadata": {},
   "outputs": [],
   "source": [
    "re.search(r'cat(fish|nap|claw)',textthree)"
   ]
  },
  {
   "cell_type": "code",
   "execution_count": 74,
   "id": "61583ccb",
   "metadata": {},
   "outputs": [
    {
     "data": {
      "text/plain": [
       "<re.Match object; span=(26, 37), match='caterpillar'>"
      ]
     },
     "execution_count": 74,
     "metadata": {},
     "output_type": "execute_result"
    }
   ],
   "source": [
    "re.search(r'cat(fish|nap|erpillar)',textthree)"
   ]
  },
  {
   "cell_type": "code",
   "execution_count": 75,
   "id": "0f54e279",
   "metadata": {},
   "outputs": [],
   "source": [
    "def func_one(n):\n",
    "    return [str(num) for num in range(n)]"
   ]
  },
  {
   "cell_type": "code",
   "execution_count": 76,
   "id": "707d56b5",
   "metadata": {},
   "outputs": [
    {
     "data": {
      "text/plain": [
       "['0', '1', '2', '3', '4', '5', '6', '7', '8', '9', '10']"
      ]
     },
     "execution_count": 76,
     "metadata": {},
     "output_type": "execute_result"
    }
   ],
   "source": [
    "func_one(11)"
   ]
  },
  {
   "cell_type": "code",
   "execution_count": 77,
   "id": "afbfbf00",
   "metadata": {},
   "outputs": [],
   "source": [
    "def func_two(n):\n",
    "    return list(map(str,range(n)))"
   ]
  },
  {
   "cell_type": "code",
   "execution_count": 79,
   "id": "7dda7922",
   "metadata": {},
   "outputs": [
    {
     "data": {
      "text/plain": [
       "['0', '1', '2', '3', '4', '5', '6', '7', '8', '9', '10']"
      ]
     },
     "execution_count": 79,
     "metadata": {},
     "output_type": "execute_result"
    }
   ],
   "source": [
    "func_two(11)"
   ]
  },
  {
   "cell_type": "code",
   "execution_count": 80,
   "id": "4c6d1052",
   "metadata": {},
   "outputs": [],
   "source": [
    "import time"
   ]
  },
  {
   "cell_type": "code",
   "execution_count": 85,
   "id": "a1915097",
   "metadata": {},
   "outputs": [
    {
     "name": "stdout",
     "output_type": "stream",
     "text": [
      "5.605130910873413\n"
     ]
    }
   ],
   "source": [
    "start_time=time.time()\n",
    "\n",
    "result= func_one(10000000)\n",
    "\n",
    "end_time=time.time()\n",
    "\n",
    "elapsed_time = end_time - start_time\n",
    "\n",
    "print(elapsed_time)"
   ]
  },
  {
   "cell_type": "code",
   "execution_count": 84,
   "id": "80709c94",
   "metadata": {},
   "outputs": [
    {
     "name": "stdout",
     "output_type": "stream",
     "text": [
      "4.175141096115112\n"
     ]
    }
   ],
   "source": [
    "start_time=time.time()\n",
    "\n",
    "result= func_two(10000000)\n",
    "\n",
    "end_time=time.time()\n",
    "\n",
    "elapsed_time = end_time - start_time\n",
    "\n",
    "print(elapsed_time)"
   ]
  },
  {
   "cell_type": "code",
   "execution_count": 86,
   "id": "d777d529",
   "metadata": {},
   "outputs": [],
   "source": [
    "import timeit"
   ]
  },
  {
   "cell_type": "code",
   "execution_count": 95,
   "id": "8c7ee2af",
   "metadata": {},
   "outputs": [],
   "source": [
    "stmt='''\n",
    "func_one(100)\n",
    "'''"
   ]
  },
  {
   "cell_type": "code",
   "execution_count": 96,
   "id": "7df6993f",
   "metadata": {},
   "outputs": [],
   "source": [
    "setup= '''\n",
    "def func_one(n):\n",
    "    return [str(num) for num in range(n)]\n",
    "'''"
   ]
  },
  {
   "cell_type": "code",
   "execution_count": 97,
   "id": "c459d5cc",
   "metadata": {},
   "outputs": [
    {
     "data": {
      "text/plain": [
       "24.014912399999957"
      ]
     },
     "execution_count": 97,
     "metadata": {},
     "output_type": "execute_result"
    }
   ],
   "source": [
    "timeit.timeit(stmt,setup,number=1000000)"
   ]
  },
  {
   "cell_type": "code",
   "execution_count": 98,
   "id": "72647aba",
   "metadata": {},
   "outputs": [],
   "source": [
    "stmt2='''\n",
    "func_two(100)'''"
   ]
  },
  {
   "cell_type": "code",
   "execution_count": 99,
   "id": "d03ed072",
   "metadata": {},
   "outputs": [],
   "source": [
    "setup2= '''\n",
    "def func_two(n):\n",
    "    return list(map(str,range(n)))\n",
    "'''"
   ]
  },
  {
   "cell_type": "code",
   "execution_count": 100,
   "id": "cd6a11ae",
   "metadata": {},
   "outputs": [
    {
     "data": {
      "text/plain": [
       "18.603331500000422"
      ]
     },
     "execution_count": 100,
     "metadata": {},
     "output_type": "execute_result"
    }
   ],
   "source": [
    "timeit.timeit(stmt2,setup2,number=1000000)"
   ]
  },
  {
   "cell_type": "code",
   "execution_count": null,
   "id": "b86e4c45",
   "metadata": {},
   "outputs": [],
   "source": []
  }
 ],
 "metadata": {
  "kernelspec": {
   "display_name": "Python 3 (ipykernel)",
   "language": "python",
   "name": "python3"
  },
  "language_info": {
   "codemirror_mode": {
    "name": "ipython",
    "version": 3
   },
   "file_extension": ".py",
   "mimetype": "text/x-python",
   "name": "python",
   "nbconvert_exporter": "python",
   "pygments_lexer": "ipython3",
   "version": "3.9.7"
  }
 },
 "nbformat": 4,
 "nbformat_minor": 5
}
