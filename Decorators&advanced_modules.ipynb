{
 "cells": [
  {
   "cell_type": "code",
   "execution_count": 1,
   "id": "70f5ccbd",
   "metadata": {},
   "outputs": [],
   "source": [
    "def hello():\n",
    "    print(\"The hello() function has been executed! \")\n",
    "    \n",
    "    "
   ]
  },
  {
   "cell_type": "code",
   "execution_count": 2,
   "id": "73c18bc0",
   "metadata": {},
   "outputs": [
    {
     "name": "stdout",
     "output_type": "stream",
     "text": [
      "The hello() function has been executed! \n"
     ]
    }
   ],
   "source": [
    "hello()"
   ]
  },
  {
   "cell_type": "code",
   "execution_count": 3,
   "id": "6bdf7012",
   "metadata": {},
   "outputs": [],
   "source": [
    "greet=hello"
   ]
  },
  {
   "cell_type": "code",
   "execution_count": 4,
   "id": "6ec0fbbe",
   "metadata": {},
   "outputs": [
    {
     "name": "stdout",
     "output_type": "stream",
     "text": [
      "The hello() function has been executed! \n"
     ]
    }
   ],
   "source": [
    "greet()"
   ]
  },
  {
   "cell_type": "code",
   "execution_count": 6,
   "id": "58a6360a",
   "metadata": {},
   "outputs": [],
   "source": [
    "del hello"
   ]
  },
  {
   "cell_type": "code",
   "execution_count": 7,
   "id": "f0763f4a",
   "metadata": {},
   "outputs": [
    {
     "name": "stdout",
     "output_type": "stream",
     "text": [
      "The hello() function has been executed! \n"
     ]
    }
   ],
   "source": [
    "greet()"
   ]
  },
  {
   "cell_type": "code",
   "execution_count": 8,
   "id": "3d07d5f5",
   "metadata": {},
   "outputs": [
    {
     "ename": "NameError",
     "evalue": "name 'hello' is not defined",
     "output_type": "error",
     "traceback": [
      "\u001b[1;31m---------------------------------------------------------------------------\u001b[0m",
      "\u001b[1;31mNameError\u001b[0m                                 Traceback (most recent call last)",
      "\u001b[1;32m~\\AppData\\Local\\Temp/ipykernel_16808/2674044599.py\u001b[0m in \u001b[0;36m<module>\u001b[1;34m\u001b[0m\n\u001b[1;32m----> 1\u001b[1;33m \u001b[0mhello\u001b[0m\u001b[1;33m(\u001b[0m\u001b[1;33m)\u001b[0m\u001b[1;33m\u001b[0m\u001b[1;33m\u001b[0m\u001b[0m\n\u001b[0m",
      "\u001b[1;31mNameError\u001b[0m: name 'hello' is not defined"
     ]
    }
   ],
   "source": [
    "hello()"
   ]
  },
  {
   "cell_type": "code",
   "execution_count": 22,
   "id": "dbcc39a5",
   "metadata": {},
   "outputs": [],
   "source": [
    "def hello(name=\"Jose\"):\n",
    "    print(\"The hello() function has been executed!\")\n",
    "    \n",
    "    def greet():\n",
    "        return \"\\t This is the greet() func inside hello!\"\n",
    "    \n",
    "    def welcome():\n",
    "        return \" \\t this is welcome() inside hello\"\n",
    "    \n",
    "    print(\"I am going to return a function!!\")\n",
    "    \n",
    "    if name==\"Jose\":\n",
    "        return greet\n",
    "    else:\n",
    "        return welcome\n",
    "    "
   ]
  },
  {
   "cell_type": "code",
   "execution_count": 26,
   "id": "a76048d0",
   "metadata": {},
   "outputs": [
    {
     "name": "stdout",
     "output_type": "stream",
     "text": [
      "The hello() function has been executed!\n",
      "I am going to return a function!!\n"
     ]
    }
   ],
   "source": [
    "my_new_func=hello(\"Nader\")"
   ]
  },
  {
   "cell_type": "code",
   "execution_count": 28,
   "id": "719863ce",
   "metadata": {},
   "outputs": [
    {
     "name": "stdout",
     "output_type": "stream",
     "text": [
      " \t this is welcome() inside hello\n"
     ]
    }
   ],
   "source": [
    "print(my_new_func())"
   ]
  },
  {
   "cell_type": "code",
   "execution_count": 29,
   "id": "24003eba",
   "metadata": {},
   "outputs": [],
   "source": [
    "def cool():\n",
    "    def super_cool():\n",
    "        return 'I am very cool!'\n",
    "    return super_cool"
   ]
  },
  {
   "cell_type": "code",
   "execution_count": 30,
   "id": "739c3986",
   "metadata": {},
   "outputs": [],
   "source": [
    "some_func=cool()"
   ]
  },
  {
   "cell_type": "code",
   "execution_count": 31,
   "id": "70fa73f4",
   "metadata": {},
   "outputs": [
    {
     "data": {
      "text/plain": [
       "<function __main__.cool.<locals>.super_cool()>"
      ]
     },
     "execution_count": 31,
     "metadata": {},
     "output_type": "execute_result"
    }
   ],
   "source": [
    "some_func"
   ]
  },
  {
   "cell_type": "code",
   "execution_count": 33,
   "id": "d3ba1b12",
   "metadata": {},
   "outputs": [],
   "source": [
    "def hello():\n",
    "    return \"My name is Nader\""
   ]
  },
  {
   "cell_type": "code",
   "execution_count": 34,
   "id": "190c5fbe",
   "metadata": {},
   "outputs": [],
   "source": [
    "def other(some_def_func):\n",
    "    print(\"Other code runs here!\")\n",
    "    print(some_def_func())"
   ]
  },
  {
   "cell_type": "code",
   "execution_count": 35,
   "id": "bf6d200b",
   "metadata": {},
   "outputs": [
    {
     "name": "stdout",
     "output_type": "stream",
     "text": [
      "Other code runs here!\n",
      "My name is Nader\n"
     ]
    }
   ],
   "source": [
    "other(hello)"
   ]
  },
  {
   "cell_type": "code",
   "execution_count": 36,
   "id": "34bce4cc",
   "metadata": {},
   "outputs": [],
   "source": [
    "def new_decorator(original_func):\n",
    "    \n",
    "    def wrap_func():\n",
    "        \n",
    "        print(\"some extra code, before the original function\")\n",
    "        original_func()\n",
    "        print(\"some extra code, after the otiginal function\")\n",
    "        \n",
    "    return wrap_func"
   ]
  },
  {
   "cell_type": "code",
   "execution_count": 37,
   "id": "fb94f92a",
   "metadata": {},
   "outputs": [],
   "source": [
    "def func_needs_decorator():\n",
    "    print(\"I want to be decorated!!\")"
   ]
  },
  {
   "cell_type": "code",
   "execution_count": 39,
   "id": "d8bddad6",
   "metadata": {},
   "outputs": [],
   "source": [
    "decorated_func=new_decorator(func_needs_decorator)"
   ]
  },
  {
   "cell_type": "code",
   "execution_count": 40,
   "id": "b99eba19",
   "metadata": {},
   "outputs": [
    {
     "name": "stdout",
     "output_type": "stream",
     "text": [
      "some extra code, before the original function\n",
      "I want to be decorated!!\n",
      "some extra code, after the otiginal function\n"
     ]
    }
   ],
   "source": [
    "decorated_func()"
   ]
  },
  {
   "cell_type": "code",
   "execution_count": 41,
   "id": "f664a6a3",
   "metadata": {},
   "outputs": [],
   "source": [
    "@new_decorator\n",
    "def func_needs_decorator():\n",
    "    print(\"I want to be decorated!!\")"
   ]
  },
  {
   "cell_type": "code",
   "execution_count": 42,
   "id": "a3ef9e43",
   "metadata": {},
   "outputs": [
    {
     "name": "stdout",
     "output_type": "stream",
     "text": [
      "some extra code, before the original function\n",
      "I want to be decorated!!\n",
      "some extra code, after the otiginal function\n"
     ]
    }
   ],
   "source": [
    "func_needs_decorator()"
   ]
  },
  {
   "cell_type": "code",
   "execution_count": 48,
   "id": "4f0ddfe8",
   "metadata": {},
   "outputs": [],
   "source": [
    "def create_cubes(n):\n",
    "    result=[]\n",
    "    for x in range(n):\n",
    "        result.append(x**3)\n",
    "        \n",
    "    return result\n",
    "        "
   ]
  },
  {
   "cell_type": "code",
   "execution_count": 49,
   "id": "4eecd85a",
   "metadata": {},
   "outputs": [
    {
     "data": {
      "text/plain": [
       "[0, 1, 8, 27, 64, 125, 216, 343, 512, 729]"
      ]
     },
     "execution_count": 49,
     "metadata": {},
     "output_type": "execute_result"
    }
   ],
   "source": [
    "create_cubes(10)"
   ]
  },
  {
   "cell_type": "code",
   "execution_count": 50,
   "id": "e6fe71a8",
   "metadata": {},
   "outputs": [
    {
     "name": "stdout",
     "output_type": "stream",
     "text": [
      "0\n",
      "1\n",
      "8\n",
      "27\n",
      "64\n",
      "125\n",
      "216\n",
      "343\n",
      "512\n",
      "729\n"
     ]
    }
   ],
   "source": [
    "for x in create_cubes(10):\n",
    "    print(x)"
   ]
  },
  {
   "cell_type": "code",
   "execution_count": 51,
   "id": "171f4bb6",
   "metadata": {},
   "outputs": [],
   "source": [
    "def create_cube(n):\n",
    "    for x in range(n):\n",
    "        yield x**3\n",
    "        "
   ]
  },
  {
   "cell_type": "code",
   "execution_count": 52,
   "id": "98812fbb",
   "metadata": {},
   "outputs": [
    {
     "data": {
      "text/plain": [
       "[0, 1, 8, 27, 64, 125, 216, 343, 512, 729]"
      ]
     },
     "execution_count": 52,
     "metadata": {},
     "output_type": "execute_result"
    }
   ],
   "source": [
    "list(create_cube(10))"
   ]
  },
  {
   "cell_type": "code",
   "execution_count": 53,
   "id": "d81bb024",
   "metadata": {},
   "outputs": [],
   "source": [
    "g=create_cube(5)"
   ]
  },
  {
   "cell_type": "code",
   "execution_count": 60,
   "id": "3b6c9a77",
   "metadata": {},
   "outputs": [
    {
     "ename": "StopIteration",
     "evalue": "",
     "output_type": "error",
     "traceback": [
      "\u001b[1;31m---------------------------------------------------------------------------\u001b[0m",
      "\u001b[1;31mStopIteration\u001b[0m                             Traceback (most recent call last)",
      "\u001b[1;32m~\\AppData\\Local\\Temp/ipykernel_16808/2604396719.py\u001b[0m in \u001b[0;36m<module>\u001b[1;34m\u001b[0m\n\u001b[1;32m----> 1\u001b[1;33m \u001b[0mprint\u001b[0m\u001b[1;33m(\u001b[0m\u001b[0mnext\u001b[0m\u001b[1;33m(\u001b[0m\u001b[0mg\u001b[0m\u001b[1;33m)\u001b[0m\u001b[1;33m)\u001b[0m\u001b[1;33m\u001b[0m\u001b[1;33m\u001b[0m\u001b[0m\n\u001b[0m",
      "\u001b[1;31mStopIteration\u001b[0m: "
     ]
    }
   ],
   "source": [
    "print(next(g))"
   ]
  },
  {
   "cell_type": "code",
   "execution_count": 61,
   "id": "4f576d20",
   "metadata": {},
   "outputs": [],
   "source": [
    "s='hello'"
   ]
  },
  {
   "cell_type": "code",
   "execution_count": 62,
   "id": "39770fb4",
   "metadata": {},
   "outputs": [
    {
     "name": "stdout",
     "output_type": "stream",
     "text": [
      "h\n",
      "e\n",
      "l\n",
      "l\n",
      "o\n"
     ]
    }
   ],
   "source": [
    "for letter in s:\n",
    "    print(letter)"
   ]
  },
  {
   "cell_type": "code",
   "execution_count": 63,
   "id": "4a4d15dd",
   "metadata": {},
   "outputs": [],
   "source": [
    "s_letter=iter(s)"
   ]
  },
  {
   "cell_type": "code",
   "execution_count": 64,
   "id": "f479f63b",
   "metadata": {},
   "outputs": [
    {
     "data": {
      "text/plain": [
       "'h'"
      ]
     },
     "execution_count": 64,
     "metadata": {},
     "output_type": "execute_result"
    }
   ],
   "source": [
    "next(s_letter)"
   ]
  },
  {
   "cell_type": "code",
   "execution_count": 65,
   "id": "86b80305",
   "metadata": {},
   "outputs": [
    {
     "data": {
      "text/plain": [
       "'e'"
      ]
     },
     "execution_count": 65,
     "metadata": {},
     "output_type": "execute_result"
    }
   ],
   "source": [
    "next(s_letter)"
   ]
  },
  {
   "cell_type": "code",
   "execution_count": 66,
   "id": "93728fcf",
   "metadata": {},
   "outputs": [
    {
     "data": {
      "text/plain": [
       "'l'"
      ]
     },
     "execution_count": 66,
     "metadata": {},
     "output_type": "execute_result"
    }
   ],
   "source": [
    "next(s_letter)"
   ]
  },
  {
   "cell_type": "code",
   "execution_count": 67,
   "id": "f7ce3fae",
   "metadata": {},
   "outputs": [
    {
     "data": {
      "text/plain": [
       "'l'"
      ]
     },
     "execution_count": 67,
     "metadata": {},
     "output_type": "execute_result"
    }
   ],
   "source": [
    "next(s_letter)"
   ]
  },
  {
   "cell_type": "code",
   "execution_count": 68,
   "id": "a85c67d1",
   "metadata": {},
   "outputs": [
    {
     "data": {
      "text/plain": [
       "'o'"
      ]
     },
     "execution_count": 68,
     "metadata": {},
     "output_type": "execute_result"
    }
   ],
   "source": [
    "next(s_letter)"
   ]
  },
  {
   "cell_type": "code",
   "execution_count": 69,
   "id": "bbf5a71c",
   "metadata": {},
   "outputs": [
    {
     "ename": "StopIteration",
     "evalue": "",
     "output_type": "error",
     "traceback": [
      "\u001b[1;31m---------------------------------------------------------------------------\u001b[0m",
      "\u001b[1;31mStopIteration\u001b[0m                             Traceback (most recent call last)",
      "\u001b[1;32m~\\AppData\\Local\\Temp/ipykernel_16808/3489054961.py\u001b[0m in \u001b[0;36m<module>\u001b[1;34m\u001b[0m\n\u001b[1;32m----> 1\u001b[1;33m \u001b[0mnext\u001b[0m\u001b[1;33m(\u001b[0m\u001b[0ms_letter\u001b[0m\u001b[1;33m)\u001b[0m\u001b[1;33m\u001b[0m\u001b[1;33m\u001b[0m\u001b[0m\n\u001b[0m",
      "\u001b[1;31mStopIteration\u001b[0m: "
     ]
    }
   ],
   "source": [
    "next(s_letter)"
   ]
  },
  {
   "cell_type": "code",
   "execution_count": 70,
   "id": "f9dbf04a",
   "metadata": {},
   "outputs": [],
   "source": [
    "from collections import Counter"
   ]
  },
  {
   "cell_type": "code",
   "execution_count": 72,
   "id": "a32f0999",
   "metadata": {},
   "outputs": [],
   "source": [
    "mylist=[1,1,1,1,1,1,2,2,2,2,3,3,3,3,3,3,3,3,3,3,3]"
   ]
  },
  {
   "cell_type": "code",
   "execution_count": 73,
   "id": "8ea3f555",
   "metadata": {},
   "outputs": [
    {
     "data": {
      "text/plain": [
       "Counter({1: 6, 2: 4, 3: 11})"
      ]
     },
     "execution_count": 73,
     "metadata": {},
     "output_type": "execute_result"
    }
   ],
   "source": [
    "Counter(mylist)"
   ]
  },
  {
   "cell_type": "code",
   "execution_count": 74,
   "id": "d26682ea",
   "metadata": {},
   "outputs": [],
   "source": [
    "mylist=['a',1,1,1,1,1,2,2,2,2,3,3,3,3,3,3,3,3,3,3,3]"
   ]
  },
  {
   "cell_type": "code",
   "execution_count": 75,
   "id": "41950931",
   "metadata": {},
   "outputs": [
    {
     "data": {
      "text/plain": [
       "Counter({'a': 1, 1: 5, 2: 4, 3: 11})"
      ]
     },
     "execution_count": 75,
     "metadata": {},
     "output_type": "execute_result"
    }
   ],
   "source": [
    "Counter(mylist)"
   ]
  },
  {
   "cell_type": "code",
   "execution_count": 76,
   "id": "ca0597d5",
   "metadata": {},
   "outputs": [
    {
     "data": {
      "text/plain": [
       "Counter({'h': 2,\n",
       "         'a': 3,\n",
       "         'v': 1,\n",
       "         'i': 1,\n",
       "         'n': 1,\n",
       "         'c': 1,\n",
       "         ' ': 2,\n",
       "         's': 3,\n",
       "         'f': 3,\n",
       "         'k': 2,\n",
       "         'd': 2,\n",
       "         'j': 1,\n",
       "         'l': 1})"
      ]
     },
     "execution_count": 76,
     "metadata": {},
     "output_type": "execute_result"
    }
   ],
   "source": [
    "Counter('havinch sfkdjfalskdf as')"
   ]
  },
  {
   "cell_type": "code",
   "execution_count": 77,
   "id": "82a081b2",
   "metadata": {},
   "outputs": [],
   "source": [
    "sentence=\"If this is how the things work, I just need to be one of the people who can earn as much as possible\""
   ]
  },
  {
   "cell_type": "code",
   "execution_count": 79,
   "id": "cd88af92",
   "metadata": {},
   "outputs": [
    {
     "data": {
      "text/plain": [
       "Counter({'If': 1,\n",
       "         'this': 1,\n",
       "         'is': 1,\n",
       "         'how': 1,\n",
       "         'the': 2,\n",
       "         'things': 1,\n",
       "         'work,': 1,\n",
       "         'I': 1,\n",
       "         'just': 1,\n",
       "         'need': 1,\n",
       "         'to': 1,\n",
       "         'be': 1,\n",
       "         'one': 1,\n",
       "         'of': 1,\n",
       "         'people': 1,\n",
       "         'who': 1,\n",
       "         'can': 1,\n",
       "         'earn': 1,\n",
       "         'as': 2,\n",
       "         'much': 1,\n",
       "         'possible': 1})"
      ]
     },
     "execution_count": 79,
     "metadata": {},
     "output_type": "execute_result"
    }
   ],
   "source": [
    "Counter(sentence.split())"
   ]
  },
  {
   "cell_type": "code",
   "execution_count": 80,
   "id": "92c52b76",
   "metadata": {},
   "outputs": [],
   "source": [
    "letters='aaabbbbbbccccddddddddddd'"
   ]
  },
  {
   "cell_type": "code",
   "execution_count": 81,
   "id": "d49f108b",
   "metadata": {},
   "outputs": [],
   "source": [
    "c=Counter(letters)"
   ]
  },
  {
   "cell_type": "code",
   "execution_count": 82,
   "id": "a72167ca",
   "metadata": {},
   "outputs": [
    {
     "data": {
      "text/plain": [
       "Counter({'a': 3, 'b': 6, 'c': 4, 'd': 11})"
      ]
     },
     "execution_count": 82,
     "metadata": {},
     "output_type": "execute_result"
    }
   ],
   "source": [
    "c"
   ]
  },
  {
   "cell_type": "code",
   "execution_count": 84,
   "id": "8c9c12c5",
   "metadata": {},
   "outputs": [
    {
     "data": {
      "text/plain": [
       "[('d', 11)]"
      ]
     },
     "execution_count": 84,
     "metadata": {},
     "output_type": "execute_result"
    }
   ],
   "source": [
    "c.most_common(1)"
   ]
  },
  {
   "cell_type": "code",
   "execution_count": 85,
   "id": "0d721cbe",
   "metadata": {},
   "outputs": [
    {
     "data": {
      "text/plain": [
       "['a', 'b', 'c', 'd']"
      ]
     },
     "execution_count": 85,
     "metadata": {},
     "output_type": "execute_result"
    }
   ],
   "source": [
    "list(c)"
   ]
  },
  {
   "cell_type": "code",
   "execution_count": 87,
   "id": "8ab4a29b",
   "metadata": {},
   "outputs": [],
   "source": [
    "from collections import defaultdict"
   ]
  },
  {
   "cell_type": "code",
   "execution_count": 91,
   "id": "57d8afc6",
   "metadata": {},
   "outputs": [],
   "source": [
    "d={'a': 10}"
   ]
  },
  {
   "cell_type": "code",
   "execution_count": 92,
   "id": "0d866c32",
   "metadata": {},
   "outputs": [
    {
     "data": {
      "text/plain": [
       "{'a': 10}"
      ]
     },
     "execution_count": 92,
     "metadata": {},
     "output_type": "execute_result"
    }
   ],
   "source": [
    "d"
   ]
  },
  {
   "cell_type": "code",
   "execution_count": 93,
   "id": "ce703108",
   "metadata": {},
   "outputs": [
    {
     "data": {
      "text/plain": [
       "10"
      ]
     },
     "execution_count": 93,
     "metadata": {},
     "output_type": "execute_result"
    }
   ],
   "source": [
    "d['a']"
   ]
  },
  {
   "cell_type": "code",
   "execution_count": 94,
   "id": "a0dfc367",
   "metadata": {},
   "outputs": [
    {
     "ename": "KeyError",
     "evalue": "'Wrong'",
     "output_type": "error",
     "traceback": [
      "\u001b[1;31m---------------------------------------------------------------------------\u001b[0m",
      "\u001b[1;31mKeyError\u001b[0m                                  Traceback (most recent call last)",
      "\u001b[1;32m~\\AppData\\Local\\Temp/ipykernel_16808/1372409748.py\u001b[0m in \u001b[0;36m<module>\u001b[1;34m\u001b[0m\n\u001b[1;32m----> 1\u001b[1;33m \u001b[0md\u001b[0m\u001b[1;33m[\u001b[0m\u001b[1;34m'Wrong'\u001b[0m\u001b[1;33m]\u001b[0m\u001b[1;33m\u001b[0m\u001b[1;33m\u001b[0m\u001b[0m\n\u001b[0m",
      "\u001b[1;31mKeyError\u001b[0m: 'Wrong'"
     ]
    }
   ],
   "source": [
    "d['Wrong']"
   ]
  },
  {
   "cell_type": "code",
   "execution_count": 95,
   "id": "659ff04a",
   "metadata": {},
   "outputs": [],
   "source": [
    "d=defaultdict(lambda:0)"
   ]
  },
  {
   "cell_type": "code",
   "execution_count": 98,
   "id": "cd172b88",
   "metadata": {},
   "outputs": [],
   "source": [
    "d[\"correct\"]=100"
   ]
  },
  {
   "cell_type": "code",
   "execution_count": 99,
   "id": "e1064655",
   "metadata": {},
   "outputs": [
    {
     "data": {
      "text/plain": [
       "100"
      ]
     },
     "execution_count": 99,
     "metadata": {},
     "output_type": "execute_result"
    }
   ],
   "source": [
    "d[\"correct\"]"
   ]
  },
  {
   "cell_type": "code",
   "execution_count": 100,
   "id": "669bcc45",
   "metadata": {},
   "outputs": [
    {
     "data": {
      "text/plain": [
       "0"
      ]
     },
     "execution_count": 100,
     "metadata": {},
     "output_type": "execute_result"
    }
   ],
   "source": [
    "d['Wrong key']"
   ]
  },
  {
   "cell_type": "code",
   "execution_count": 101,
   "id": "68283486",
   "metadata": {},
   "outputs": [
    {
     "data": {
      "text/plain": [
       "defaultdict(<function __main__.<lambda>()>, {'correct': 100, 'Wrong key': 0})"
      ]
     },
     "execution_count": 101,
     "metadata": {},
     "output_type": "execute_result"
    }
   ],
   "source": [
    "d"
   ]
  },
  {
   "cell_type": "code",
   "execution_count": 103,
   "id": "023a6981",
   "metadata": {},
   "outputs": [],
   "source": [
    "from collections import  namedtuple"
   ]
  },
  {
   "cell_type": "code",
   "execution_count": 104,
   "id": "148823e8",
   "metadata": {},
   "outputs": [],
   "source": [
    "Dog=namedtuple(\"Dog\",['age','breed', 'name'])"
   ]
  },
  {
   "cell_type": "code",
   "execution_count": 105,
   "id": "52ec1b84",
   "metadata": {},
   "outputs": [
    {
     "data": {
      "text/plain": [
       "__main__.Dog"
      ]
     },
     "execution_count": 105,
     "metadata": {},
     "output_type": "execute_result"
    }
   ],
   "source": [
    "Dog"
   ]
  },
  {
   "cell_type": "code",
   "execution_count": 106,
   "id": "823f3231",
   "metadata": {},
   "outputs": [],
   "source": [
    "sammy= Dog(age=5, breed=\"Husky\", name=\"Sam\")"
   ]
  },
  {
   "cell_type": "code",
   "execution_count": 107,
   "id": "34a0a3e7",
   "metadata": {},
   "outputs": [
    {
     "data": {
      "text/plain": [
       "__main__.Dog"
      ]
     },
     "execution_count": 107,
     "metadata": {},
     "output_type": "execute_result"
    }
   ],
   "source": [
    "type(sammy)"
   ]
  },
  {
   "cell_type": "code",
   "execution_count": 108,
   "id": "2ebe6110",
   "metadata": {},
   "outputs": [
    {
     "data": {
      "text/plain": [
       "5"
      ]
     },
     "execution_count": 108,
     "metadata": {},
     "output_type": "execute_result"
    }
   ],
   "source": [
    "sammy.age"
   ]
  },
  {
   "cell_type": "code",
   "execution_count": 110,
   "id": "ddb671ae",
   "metadata": {},
   "outputs": [
    {
     "data": {
      "text/plain": [
       "'Husky'"
      ]
     },
     "execution_count": 110,
     "metadata": {},
     "output_type": "execute_result"
    }
   ],
   "source": [
    "sammy.breed"
   ]
  },
  {
   "cell_type": "code",
   "execution_count": 111,
   "id": "600afa34",
   "metadata": {},
   "outputs": [
    {
     "data": {
      "text/plain": [
       "'Sam'"
      ]
     },
     "execution_count": 111,
     "metadata": {},
     "output_type": "execute_result"
    }
   ],
   "source": [
    "sammy.name"
   ]
  },
  {
   "cell_type": "code",
   "execution_count": 112,
   "id": "73edd4b5",
   "metadata": {},
   "outputs": [
    {
     "data": {
      "text/plain": [
       "5"
      ]
     },
     "execution_count": 112,
     "metadata": {},
     "output_type": "execute_result"
    }
   ],
   "source": [
    "sammy[0]"
   ]
  },
  {
   "cell_type": "code",
   "execution_count": 144,
   "id": "422e0da2",
   "metadata": {},
   "outputs": [
    {
     "name": "stdout",
     "output_type": "stream",
     "text": [
      " Volume in drive C is Windows\n",
      " Volume Serial Number is D040-2F39\n",
      "\n",
      " Directory of C:\\Users\\nxg392\\OneDrive - Thomas Jefferson University and its Affiliates\\Desktop\\Research\\Anaconda\\Python_Udemy\n",
      "\n",
      "09/07/2022  16:47    <DIR>          .\n",
      "09/07/2022  16:47    <DIR>          ..\n",
      "09/06/2022  16:07    <DIR>          .ipynb_checkpoints\n",
      "06/24/2022  10:55    <DIR>          __pycache__\n",
      "06/20/2022  13:18                 0 1.text\n",
      "06/20/2022  13:20                 0 1.txt\n",
      "06/28/2022  19:53           155,165 17_March.ipynb\n",
      "02/28/2022  20:59             9,698 22 Feb 2022.ipynb\n",
      "04/25/2022  11:18                26 Another_test.txt\n",
      "08/03/2022  18:26            17,684 BlackJAck Working version.ipynb\n",
      "07/06/2022  18:45            16,619 BlackJAck2.ipynb\n",
      "06/24/2022  10:55                64 cap.py\n",
      "09/07/2022  16:34    <DIR>          Complete-Python-3-Bootcamp-master\n",
      "01/11/2022  15:06                78 myfile.txt\n",
      "01/11/2022  17:54                62 name.txt\n",
      "06/20/2022  13:12                24 new.txt\n",
      "01/07/2022  17:39            46,286 numbers - Copy (2).ipynb\n",
      "01/06/2022  11:31            25,296 numbers - Copy.ipynb\n",
      "01/06/2022  10:37            20,224 numbers.ipynb\n",
      "06/23/2022  11:37               187 simple1.py\n",
      "06/23/2022  11:38               185 simple2.py\n",
      "01/07/2022  17:34                43 something_new.txt\n",
      "01/11/2022  15:26                11 test.txt\n",
      "06/24/2022  10:55               620 test_cap.py\n",
      "01/07/2022  17:23                74 test2.txt\n",
      "01/11/2022  15:22                11 test3 - Copy.txt\n",
      "01/07/2022  17:32                45 test3.txt\n",
      "03/29/2022  13:55                20 testfile\n",
      "01/07/2022  17:39                11 testsd.txt\n",
      "01/05/2022  09:49               588 Untitled.ipynb\n",
      "02/18/2022  10:58             9,528 Untitled1.ipynb\n",
      "06/28/2022  19:44            15,185 Untitled2.ipynb\n",
      "07/06/2022  18:46            14,266 Untitled3.ipynb\n",
      "07/01/2022  19:04            22,443 Untitled4.ipynb\n",
      "06/29/2022  12:09               588 Untitled5.ipynb\n",
      "08/03/2022  19:07             2,726 Untitled6.ipynb\n",
      "09/07/2022  16:47            36,700 Untitled7.ipynb\n",
      "06/29/2022  12:26            47,169 War Game Nader.ipynb\n",
      "              33 File(s)        441,626 bytes\n",
      "               5 Dir(s)  116,217,970,688 bytes free\n"
     ]
    }
   ],
   "source": [
    "ls"
   ]
  },
  {
   "cell_type": "code",
   "execution_count": 115,
   "id": "a764e9af",
   "metadata": {},
   "outputs": [],
   "source": [
    "f = open('practice.txt', 'w+')\n",
    "f.write('This a test string')\n",
    "f.close()"
   ]
  },
  {
   "cell_type": "code",
   "execution_count": 116,
   "id": "02761a1e",
   "metadata": {},
   "outputs": [],
   "source": [
    "import os"
   ]
  },
  {
   "cell_type": "code",
   "execution_count": 145,
   "id": "0ffa2a67",
   "metadata": {},
   "outputs": [
    {
     "name": "stdout",
     "output_type": "stream",
     "text": [
      " Volume in drive C is Windows\n",
      " Volume Serial Number is D040-2F39\n",
      "\n",
      " Directory of C:\\Users\\nxg392\\OneDrive - Thomas Jefferson University and its Affiliates\\Desktop\\Research\\Anaconda\\Python_Udemy\n",
      "\n",
      "09/07/2022  16:47    <DIR>          .\n",
      "09/07/2022  16:47    <DIR>          ..\n",
      "09/06/2022  16:07    <DIR>          .ipynb_checkpoints\n",
      "06/24/2022  10:55    <DIR>          __pycache__\n",
      "06/20/2022  13:18                 0 1.text\n",
      "06/20/2022  13:20                 0 1.txt\n",
      "06/28/2022  19:53           155,165 17_March.ipynb\n",
      "02/28/2022  20:59             9,698 22 Feb 2022.ipynb\n",
      "04/25/2022  11:18                26 Another_test.txt\n",
      "08/03/2022  18:26            17,684 BlackJAck Working version.ipynb\n",
      "07/06/2022  18:45            16,619 BlackJAck2.ipynb\n",
      "06/24/2022  10:55                64 cap.py\n",
      "09/07/2022  16:34    <DIR>          Complete-Python-3-Bootcamp-master\n",
      "01/11/2022  15:06                78 myfile.txt\n",
      "01/11/2022  17:54                62 name.txt\n",
      "06/20/2022  13:12                24 new.txt\n",
      "01/07/2022  17:39            46,286 numbers - Copy (2).ipynb\n",
      "01/06/2022  11:31            25,296 numbers - Copy.ipynb\n",
      "01/06/2022  10:37            20,224 numbers.ipynb\n",
      "06/23/2022  11:37               187 simple1.py\n",
      "06/23/2022  11:38               185 simple2.py\n",
      "01/07/2022  17:34                43 something_new.txt\n",
      "01/11/2022  15:26                11 test.txt\n",
      "06/24/2022  10:55               620 test_cap.py\n",
      "01/07/2022  17:23                74 test2.txt\n",
      "01/11/2022  15:22                11 test3 - Copy.txt\n",
      "01/07/2022  17:32                45 test3.txt\n",
      "03/29/2022  13:55                20 testfile\n",
      "01/07/2022  17:39                11 testsd.txt\n",
      "01/05/2022  09:49               588 Untitled.ipynb\n",
      "02/18/2022  10:58             9,528 Untitled1.ipynb\n",
      "06/28/2022  19:44            15,185 Untitled2.ipynb\n",
      "07/06/2022  18:46            14,266 Untitled3.ipynb\n",
      "07/01/2022  19:04            22,443 Untitled4.ipynb\n",
      "06/29/2022  12:09               588 Untitled5.ipynb\n",
      "08/03/2022  19:07             2,726 Untitled6.ipynb\n",
      "09/07/2022  16:47            36,700 Untitled7.ipynb\n",
      "06/29/2022  12:26            47,169 War Game Nader.ipynb\n",
      "              33 File(s)        441,626 bytes\n",
      "               5 Dir(s)  116,218,298,368 bytes free\n"
     ]
    }
   ],
   "source": [
    "os.getcwd()"
   ]
  },
  {
   "cell_type": "code",
   "execution_count": 118,
   "id": "157cba0f",
   "metadata": {},
   "outputs": [
    {
     "data": {
      "text/plain": [
       "['.ipynb_checkpoints',\n",
       " '1.text',\n",
       " '1.txt',\n",
       " '17_March.ipynb',\n",
       " '22 Feb 2022.ipynb',\n",
       " 'Another_test.txt',\n",
       " 'BlackJAck Working version.ipynb',\n",
       " 'BlackJAck2.ipynb',\n",
       " 'cap.py',\n",
       " 'myfile.txt',\n",
       " 'name.txt',\n",
       " 'new.txt',\n",
       " 'numbers - Copy (2).ipynb',\n",
       " 'numbers - Copy.ipynb',\n",
       " 'numbers.ipynb',\n",
       " 'practice.txt',\n",
       " 'simple1.py',\n",
       " 'simple2.py',\n",
       " 'something_new.txt',\n",
       " 'test.txt',\n",
       " 'test2.txt',\n",
       " 'test3 - Copy.txt',\n",
       " 'test3.txt',\n",
       " 'testfile',\n",
       " 'testsd.txt',\n",
       " 'test_cap.py',\n",
       " 'Untitled.ipynb',\n",
       " 'Untitled1.ipynb',\n",
       " 'Untitled2.ipynb',\n",
       " 'Untitled3.ipynb',\n",
       " 'Untitled4.ipynb',\n",
       " 'Untitled5.ipynb',\n",
       " 'Untitled6.ipynb',\n",
       " 'Untitled7.ipynb',\n",
       " 'War Game Nader.ipynb',\n",
       " '__pycache__']"
      ]
     },
     "execution_count": 118,
     "metadata": {},
     "output_type": "execute_result"
    }
   ],
   "source": [
    "os.listdir()"
   ]
  },
  {
   "cell_type": "code",
   "execution_count": 121,
   "id": "60fdd6fe",
   "metadata": {},
   "outputs": [
    {
     "data": {
      "text/plain": [
       "['2021_Solution_Center_Icon.ico',\n",
       " 'ADMINI~1',\n",
       " 'All Users',\n",
       " 'axl605',\n",
       " 'cxm051',\n",
       " 'Default',\n",
       " 'Default User',\n",
       " 'desktop.ini',\n",
       " 'hxn193',\n",
       " 'JeffMail Icon.ico',\n",
       " 'jjb116',\n",
       " 'jxp571',\n",
       " 'lxm294',\n",
       " 'nxg392',\n",
       " 'Public',\n",
       " 'rxt142',\n",
       " 'sms040',\n",
       " 'txn410',\n",
       " 'wxy015']"
      ]
     },
     "execution_count": 121,
     "metadata": {},
     "output_type": "execute_result"
    }
   ],
   "source": [
    "os.listdir('C:\\\\Users')"
   ]
  },
  {
   "cell_type": "code",
   "execution_count": 122,
   "id": "51735c28",
   "metadata": {},
   "outputs": [],
   "source": [
    "import shutil"
   ]
  },
  {
   "cell_type": "code",
   "execution_count": 146,
   "id": "6de3530a",
   "metadata": {},
   "outputs": [
    {
     "name": "stdout",
     "output_type": "stream",
     "text": [
      " Volume in drive C is Windows\n",
      " Volume Serial Number is D040-2F39\n",
      "\n",
      " Directory of C:\\Users\\nxg392\\OneDrive - Thomas Jefferson University and its Affiliates\\Desktop\\Research\\Anaconda\\Python_Udemy\n",
      "\n",
      "09/07/2022  16:49    <DIR>          .\n",
      "09/07/2022  16:49    <DIR>          ..\n",
      "09/06/2022  16:07    <DIR>          .ipynb_checkpoints\n",
      "06/24/2022  10:55    <DIR>          __pycache__\n",
      "06/20/2022  13:18                 0 1.text\n",
      "06/20/2022  13:20                 0 1.txt\n",
      "06/28/2022  19:53           155,165 17_March.ipynb\n",
      "02/28/2022  20:59             9,698 22 Feb 2022.ipynb\n",
      "04/25/2022  11:18                26 Another_test.txt\n",
      "08/03/2022  18:26            17,684 BlackJAck Working version.ipynb\n",
      "07/06/2022  18:45            16,619 BlackJAck2.ipynb\n",
      "06/24/2022  10:55                64 cap.py\n",
      "09/07/2022  16:34    <DIR>          Complete-Python-3-Bootcamp-master\n",
      "01/11/2022  15:06                78 myfile.txt\n",
      "01/11/2022  17:54                62 name.txt\n",
      "06/20/2022  13:12                24 new.txt\n",
      "01/07/2022  17:39            46,286 numbers - Copy (2).ipynb\n",
      "01/06/2022  11:31            25,296 numbers - Copy.ipynb\n",
      "01/06/2022  10:37            20,224 numbers.ipynb\n",
      "06/23/2022  11:37               187 simple1.py\n",
      "06/23/2022  11:38               185 simple2.py\n",
      "01/07/2022  17:34                43 something_new.txt\n",
      "01/11/2022  15:26                11 test.txt\n",
      "06/24/2022  10:55               620 test_cap.py\n",
      "01/07/2022  17:23                74 test2.txt\n",
      "01/11/2022  15:22                11 test3 - Copy.txt\n",
      "01/07/2022  17:32                45 test3.txt\n",
      "03/29/2022  13:55                20 testfile\n",
      "01/07/2022  17:39                11 testsd.txt\n",
      "01/05/2022  09:49               588 Untitled.ipynb\n",
      "02/18/2022  10:58             9,528 Untitled1.ipynb\n",
      "06/28/2022  19:44            15,185 Untitled2.ipynb\n",
      "07/06/2022  18:46            14,266 Untitled3.ipynb\n",
      "07/01/2022  19:04            22,443 Untitled4.ipynb\n",
      "06/29/2022  12:09               588 Untitled5.ipynb\n",
      "08/03/2022  19:07             2,726 Untitled6.ipynb\n",
      "09/07/2022  16:49            41,574 Untitled7.ipynb\n",
      "06/29/2022  12:26            47,169 War Game Nader.ipynb\n",
      "              33 File(s)        446,500 bytes\n",
      "               5 Dir(s)  116,219,236,352 bytes free\n"
     ]
    }
   ],
   "source": [
    "shutil.move('practice.txt', \"C:\\\\Users\\\\madarjende\\\\OneDrive - Thomas Jefferson University and its Affiliates\\\\Desktop\" )"
   ]
  },
  {
   "cell_type": "code",
   "execution_count": 124,
   "id": "abbe1d28",
   "metadata": {},
   "outputs": [
    {
     "data": {
      "text/plain": [
       "['1CoverPage_Generic.pdf',\n",
       " 'BLANK Computing Device Request_JV_NG.docx',\n",
       " 'Book1.xlsx',\n",
       " 'desktop.ini',\n",
       " 'Documents',\n",
       " 'For trasnfer',\n",
       " 'Grammarly.lnk',\n",
       " 'Hi.docx',\n",
       " 'Hyperspace.lnk',\n",
       " 'Mosaiq log in.JPG',\n",
       " 'mymodule.py',\n",
       " 'myprogram.py',\n",
       " 'Nader - Chrome.lnk',\n",
       " 'New Text Document.txt',\n",
       " 'OnPoint Reporting & Feedback.lnk',\n",
       " 'PFT_060721_AnonForRyan_NG (Autosaved).xlsx',\n",
       " 'PFT_data_all_in_one.csv',\n",
       " 'PFT_data_all_in_one.xlsx',\n",
       " 'practice.txt',\n",
       " 'Presentation _NG_JV_JVEdit_8_July.pptx',\n",
       " 'Research']"
      ]
     },
     "execution_count": 124,
     "metadata": {},
     "output_type": "execute_result"
    }
   ],
   "source": [
    "os.listdir(\"C:\\\\Users\\\\madarjende\\\\OneDrive - Thomas Jefferson University and its Affiliates\\\\Desktop\\\\\")"
   ]
  },
  {
   "cell_type": "code",
   "execution_count": 125,
   "id": "f8dbcf42",
   "metadata": {},
   "outputs": [
    {
     "name": "stdout",
     "output_type": "stream",
     "text": [
      "Requirement already satisfied: send2trash in c:\\programdata\\anaconda3\\lib\\site-packages (1.8.0)Note: you may need to restart the kernel to use updated packages.\n",
      "\n"
     ]
    }
   ],
   "source": [
    "pip install send2trash"
   ]
  },
  {
   "cell_type": "code",
   "execution_count": 126,
   "id": "61439745",
   "metadata": {},
   "outputs": [],
   "source": [
    "import send2trash"
   ]
  },
  {
   "cell_type": "code",
   "execution_count": 147,
   "id": "f56dcd6d",
   "metadata": {},
   "outputs": [
    {
     "ename": "AttributeError",
     "evalue": "module 'os' has no attribute 'wall'",
     "output_type": "error",
     "traceback": [
      "\u001b[1;31m---------------------------------------------------------------------------\u001b[0m",
      "\u001b[1;31mAttributeError\u001b[0m                            Traceback (most recent call last)",
      "\u001b[1;32m~\\AppData\\Local\\Temp/ipykernel_16808/3021179220.py\u001b[0m in \u001b[0;36m<module>\u001b[1;34m\u001b[0m\n\u001b[1;32m----> 1\u001b[1;33m \u001b[0mos\u001b[0m\u001b[1;33m.\u001b[0m\u001b[0mwall\u001b[0m\u001b[1;33m(\u001b[0m\u001b[1;33m)\u001b[0m\u001b[1;33m\u001b[0m\u001b[1;33m\u001b[0m\u001b[0m\n\u001b[0m",
      "\u001b[1;31mAttributeError\u001b[0m: module 'os' has no attribute 'wall'"
     ]
    }
   ],
   "source": [
    "os.wall()"
   ]
  },
  {
   "cell_type": "code",
   "execution_count": 148,
   "id": "7d0f4927",
   "metadata": {},
   "outputs": [
    {
     "data": {
      "text/plain": [
       "['.ipynb_checkpoints',\n",
       " '1.text',\n",
       " '1.txt',\n",
       " '17_March.ipynb',\n",
       " '22 Feb 2022.ipynb',\n",
       " 'Another_test.txt',\n",
       " 'BlackJAck Working version.ipynb',\n",
       " 'BlackJAck2.ipynb',\n",
       " 'cap.py',\n",
       " 'Complete-Python-3-Bootcamp-master',\n",
       " 'myfile.txt',\n",
       " 'name.txt',\n",
       " 'new.txt',\n",
       " 'numbers - Copy (2).ipynb',\n",
       " 'numbers - Copy.ipynb',\n",
       " 'numbers.ipynb',\n",
       " 'simple1.py',\n",
       " 'simple2.py',\n",
       " 'something_new.txt',\n",
       " 'test.txt',\n",
       " 'test2.txt',\n",
       " 'test3 - Copy.txt',\n",
       " 'test3.txt',\n",
       " 'testfile',\n",
       " 'testsd.txt',\n",
       " 'test_cap.py',\n",
       " 'Untitled.ipynb',\n",
       " 'Untitled1.ipynb',\n",
       " 'Untitled2.ipynb',\n",
       " 'Untitled3.ipynb',\n",
       " 'Untitled4.ipynb',\n",
       " 'Untitled5.ipynb',\n",
       " 'Untitled6.ipynb',\n",
       " 'Untitled7.ipynb',\n",
       " 'War Game Nader.ipynb',\n",
       " '__pycache__']"
      ]
     },
     "execution_count": 148,
     "metadata": {},
     "output_type": "execute_result"
    }
   ],
   "source": [
    "os.listdir()"
   ]
  },
  {
   "cell_type": "code",
   "execution_count": 131,
   "id": "ab6b90d9",
   "metadata": {},
   "outputs": [],
   "source": [
    "send2trash.send2trash('practice.txt')"
   ]
  },
  {
   "cell_type": "code",
   "execution_count": 132,
   "id": "efa2f5ca",
   "metadata": {},
   "outputs": [
    {
     "data": {
      "text/plain": [
       "['.ipynb_checkpoints',\n",
       " '1.text',\n",
       " '1.txt',\n",
       " '17_March.ipynb',\n",
       " '22 Feb 2022.ipynb',\n",
       " 'Another_test.txt',\n",
       " 'BlackJAck Working version.ipynb',\n",
       " 'BlackJAck2.ipynb',\n",
       " 'cap.py',\n",
       " 'myfile.txt',\n",
       " 'name.txt',\n",
       " 'new.txt',\n",
       " 'numbers - Copy (2).ipynb',\n",
       " 'numbers - Copy.ipynb',\n",
       " 'numbers.ipynb',\n",
       " 'simple1.py',\n",
       " 'simple2.py',\n",
       " 'something_new.txt',\n",
       " 'test.txt',\n",
       " 'test2.txt',\n",
       " 'test3 - Copy.txt',\n",
       " 'test3.txt',\n",
       " 'testfile',\n",
       " 'testsd.txt',\n",
       " 'test_cap.py',\n",
       " 'Untitled.ipynb',\n",
       " 'Untitled1.ipynb',\n",
       " 'Untitled2.ipynb',\n",
       " 'Untitled3.ipynb',\n",
       " 'Untitled4.ipynb',\n",
       " 'Untitled5.ipynb',\n",
       " 'Untitled6.ipynb',\n",
       " 'Untitled7.ipynb',\n",
       " 'War Game Nader.ipynb',\n",
       " '__pycache__']"
      ]
     },
     "execution_count": 132,
     "metadata": {},
     "output_type": "execute_result"
    }
   ],
   "source": [
    "os.listdir()"
   ]
  },
  {
   "cell_type": "code",
   "execution_count": 133,
   "id": "fca79b8f",
   "metadata": {},
   "outputs": [
    {
     "data": {
      "text/plain": [
       "<function os.walk(top, topdown=True, onerror=None, followlinks=False)>"
      ]
     },
     "execution_count": 133,
     "metadata": {},
     "output_type": "execute_result"
    }
   ],
   "source": [
    "os.walk"
   ]
  },
  {
   "cell_type": "code",
   "execution_count": 149,
   "id": "920f4c1b",
   "metadata": {},
   "outputs": [
    {
     "data": {
      "text/plain": [
       "<function os.walk(top, topdown=True, onerror=None, followlinks=False)>"
      ]
     },
     "execution_count": 149,
     "metadata": {},
     "output_type": "execute_result"
    }
   ],
   "source": [
    "os.walk"
   ]
  },
  {
   "cell_type": "code",
   "execution_count": 137,
   "id": "a8a8f637",
   "metadata": {},
   "outputs": [
    {
     "data": {
      "text/plain": [
       "['.ipynb_checkpoints',\n",
       " '1.text',\n",
       " '1.txt',\n",
       " '17_March.ipynb',\n",
       " '22 Feb 2022.ipynb',\n",
       " 'Another_test.txt',\n",
       " 'BlackJAck Working version.ipynb',\n",
       " 'BlackJAck2.ipynb',\n",
       " 'cap.py',\n",
       " 'Complete-Python-3-Bootcamp-master',\n",
       " 'myfile.txt',\n",
       " 'name.txt',\n",
       " 'new.txt',\n",
       " 'numbers - Copy (2).ipynb',\n",
       " 'numbers - Copy.ipynb',\n",
       " 'numbers.ipynb',\n",
       " 'simple1.py',\n",
       " 'simple2.py',\n",
       " 'something_new.txt',\n",
       " 'test.txt',\n",
       " 'test2.txt',\n",
       " 'test3 - Copy.txt',\n",
       " 'test3.txt',\n",
       " 'testfile',\n",
       " 'testsd.txt',\n",
       " 'test_cap.py',\n",
       " 'Untitled.ipynb',\n",
       " 'Untitled1.ipynb',\n",
       " 'Untitled2.ipynb',\n",
       " 'Untitled3.ipynb',\n",
       " 'Untitled4.ipynb',\n",
       " 'Untitled5.ipynb',\n",
       " 'Untitled6.ipynb',\n",
       " 'Untitled7.ipynb',\n",
       " 'War Game Nader.ipynb',\n",
       " '__pycache__']"
      ]
     },
     "execution_count": 137,
     "metadata": {},
     "output_type": "execute_result"
    }
   ],
   "source": [
    "os.listdir()"
   ]
  },
  {
   "cell_type": "code",
   "execution_count": 142,
   "id": "5bcc4b90",
   "metadata": {},
   "outputs": [],
   "source": [
    "file_path='C:\\\\Users\\\\madarjende\\\\OneDrive - Thomas Jefferson University and its Affiliates\\\\Desktop\\\\Research\\\\Anaconda\\\\Python_Udemy\\\\Complete-Python-3-Bootcamp-master\\\\12-Advanced Python Modules\\\\Example_Top_Level'"
   ]
  },
  {
   "cell_type": "code",
   "execution_count": 143,
   "id": "c7194f98",
   "metadata": {},
   "outputs": [],
   "source": [
    "for folder, sub_folders, files in os.walk(file_path):\n",
    "    print(f\"Currently looking at {folder}\")\n",
    "    print(\"\\n\")\n",
    "    print(\"The subfolders are: \")\n",
    "    for sub_fold in sub_folders:\n",
    "        print(f\"\\t Subfolder: {sub_fold}\")\n",
    "        \n",
    "    print('\\n')\n",
    "    print(\"The files are: \")\n",
    "    for f in files:\n",
    "        print(f\"File: {f}\")\n",
    "    print(\"\\n\")"
   ]
  },
  {
   "cell_type": "code",
   "execution_count": null,
   "id": "e6d02052",
   "metadata": {},
   "outputs": [],
   "source": []
  }
 ],
 "metadata": {
  "kernelspec": {
   "display_name": "Python 3 (ipykernel)",
   "language": "python",
   "name": "python3"
  },
  "language_info": {
   "codemirror_mode": {
    "name": "ipython",
    "version": 3
   },
   "file_extension": ".py",
   "mimetype": "text/x-python",
   "name": "python",
   "nbconvert_exporter": "python",
   "pygments_lexer": "ipython3",
   "version": "3.9.7"
  }
 },
 "nbformat": 4,
 "nbformat_minor": 5
}
