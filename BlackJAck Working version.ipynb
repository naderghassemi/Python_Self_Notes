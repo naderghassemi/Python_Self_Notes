{
 "cells": [
  {
   "cell_type": "markdown",
   "id": "835b06f9",
   "metadata": {},
   "source": [
    "# BlackJack"
   ]
  },
  {
   "cell_type": "markdown",
   "id": "5db8e417",
   "metadata": {},
   "source": [
    "Similar to the real game each deck has four suits and thirteen ranks for a total of 52 cards. FAace cards (Jack, Queen, and King) all have the value or rank of 10. However, Ace can have either 11 or 1 (depending on whichever is suitable for the winning). The point of the game is to reach as close to 21 as (player or dealer without going over! more information can be found here : https://en.wikipedia.org/wiki/Blackjack\n",
    "\n",
    "IT must be noted that this is slightly simplified version.\n",
    "\n",
    "Initially we are going to assign variables to store a list of suits, ranks, and then use a dictionary to map ranks to values."
   ]
  },
  {
   "cell_type": "code",
   "execution_count": 1,
   "id": "f6d8fcb8",
   "metadata": {},
   "outputs": [],
   "source": [
    "import random\n",
    "\n",
    "suits = ('Hearts', 'Diamonds', 'Spades', 'Clubs')\n",
    "ranks = ('Two', 'Three', 'Four', 'Five', 'Six', 'Seven', 'Eight', 'Nine', 'Ten', 'Jack', 'Queen', 'King', 'Ace')\n",
    "values = {'Two':2, 'Three':3, 'Four':4, 'Five':5, 'Six':6, 'Seven':7, 'Eight':8, 'Nine':9, 'Ten':10, 'Jack':10,\n",
    "         'Queen':10, 'King':10, 'Ace':11}\n",
    "\n"
   ]
  },
  {
   "cell_type": "code",
   "execution_count": 2,
   "id": "6966b022",
   "metadata": {},
   "outputs": [],
   "source": [
    "playing = True"
   ]
  },
  {
   "cell_type": "markdown",
   "id": "2f7885df",
   "metadata": {},
   "source": [
    "Then we are going to make the Card objects as follows:\n",
    "\n"
   ]
  },
  {
   "cell_type": "code",
   "execution_count": 3,
   "id": "04ae6ed1",
   "metadata": {},
   "outputs": [],
   "source": [
    "class Card:\n",
    "\n",
    "    def __init__(self,suit,rank):\n",
    "        self.suit = suit\n",
    "        self.rank = rank\n",
    "        \n",
    "    def __str__(self):\n",
    "        return self.rank + ' of ' + self.suit"
   ]
  },
  {
   "cell_type": "markdown",
   "id": "17efa9f7",
   "metadata": {},
   "source": [
    "Now we have everything we need to make our deck"
   ]
  },
  {
   "cell_type": "code",
   "execution_count": 4,
   "id": "739046df",
   "metadata": {},
   "outputs": [],
   "source": [
    "class Deck:\n",
    "    \n",
    "    def __init__(self):\n",
    "        self.deck = []  # start with an empty list\n",
    "        for suit in suits:\n",
    "            for rank in ranks:\n",
    "                self.deck.append(Card(suit,rank))  # build Card objects and add them to the list\n",
    "    \n",
    "    def __str__(self):\n",
    "        deck_comp = ''  # start with an empty string\n",
    "        for card in self.deck:\n",
    "            deck_comp += '\\n '+card.__str__() # add each Card object's print string\n",
    "        return 'The deck has:' + deck_comp\n",
    "\n",
    "    def shuffle(self):\n",
    "        random.shuffle(self.deck)\n",
    "        \n",
    "    def deal(self):\n",
    "        single_card = self.deck.pop()\n",
    "        return single_card"
   ]
  },
  {
   "cell_type": "markdown",
   "id": "54a8e311",
   "metadata": {},
   "source": [
    "We can test our deck and see if it is working"
   ]
  },
  {
   "cell_type": "code",
   "execution_count": 5,
   "id": "2df92ed7",
   "metadata": {},
   "outputs": [
    {
     "name": "stdout",
     "output_type": "stream",
     "text": [
      "The deck has:\n",
      " Ace of Spades\n",
      " King of Diamonds\n",
      " Nine of Clubs\n",
      " Four of Spades\n",
      " Three of Diamonds\n",
      " Two of Spades\n",
      " Ace of Clubs\n",
      " Seven of Spades\n",
      " Seven of Hearts\n",
      " Ten of Spades\n",
      " King of Hearts\n",
      " Two of Clubs\n",
      " Eight of Hearts\n",
      " Queen of Diamonds\n",
      " Six of Hearts\n",
      " Eight of Clubs\n",
      " Jack of Diamonds\n",
      " Eight of Diamonds\n",
      " Queen of Clubs\n",
      " Three of Spades\n",
      " Five of Clubs\n",
      " Nine of Diamonds\n",
      " Five of Hearts\n",
      " Ten of Clubs\n",
      " Nine of Spades\n",
      " Six of Diamonds\n",
      " Ace of Hearts\n",
      " Three of Clubs\n",
      " Jack of Spades\n",
      " Eight of Spades\n",
      " Six of Clubs\n",
      " Six of Spades\n",
      " King of Spades\n",
      " Four of Clubs\n",
      " Two of Hearts\n",
      " Jack of Clubs\n",
      " Ten of Diamonds\n",
      " Nine of Hearts\n",
      " Four of Diamonds\n",
      " Five of Spades\n",
      " Seven of Diamonds\n",
      " Ten of Hearts\n",
      " Seven of Clubs\n",
      " Ace of Diamonds\n",
      " Four of Hearts\n",
      " Queen of Hearts\n",
      " Two of Diamonds\n",
      " King of Clubs\n",
      " Jack of Hearts\n",
      " Three of Hearts\n",
      " Queen of Spades\n",
      " Five of Diamonds\n"
     ]
    }
   ],
   "source": [
    "new_deck=Deck()\n",
    "new_deck.shuffle()\n",
    "print(new_deck)"
   ]
  },
  {
   "cell_type": "markdown",
   "id": "924b2928",
   "metadata": {},
   "source": [
    "Seems working. So we move forward by creating the players hands (so technically we are going to make two hands or players, player and the dealer).\n",
    "\n"
   ]
  },
  {
   "cell_type": "code",
   "execution_count": 6,
   "id": "c673618e",
   "metadata": {},
   "outputs": [],
   "source": [
    "class Hand:\n",
    "    \n",
    "    def __init__(self):\n",
    "        self.cards = []  # start with an empty list as we did in the Deck class\n",
    "        self.value = 0   # start with zero value\n",
    "        self.aces = 0    # add an attribute to keep track of aces\n",
    "    \n",
    "    def add_card(self,card):\n",
    "        self.cards.append(card)\n",
    "        self.value += values[card.rank]\n",
    "        if card.rank == 'Ace':\n",
    "            self.aces += 1  # add to self.aces\n",
    "    \n",
    "    def adjust_for_ace(self):\n",
    "        while self.value > 21 and self.aces:\n",
    "            self.value -= 10\n",
    "            self.aces -= 1 "
   ]
  },
  {
   "cell_type": "markdown",
   "id": "50045360",
   "metadata": {},
   "source": [
    "We can test and see if it works or not which I already test it and it is WORKING :)\n",
    "\n",
    "Now we are moving forward with making the chips"
   ]
  },
  {
   "cell_type": "code",
   "execution_count": 7,
   "id": "1164e635",
   "metadata": {},
   "outputs": [],
   "source": [
    "class Chips:\n",
    "    \n",
    "    def __init__(self):\n",
    "        self.total = 100  # This can be set to a default value or supplied by a user input\n",
    "        self.bet = 0\n",
    "        \n",
    "    def win_bet(self):\n",
    "        self.total += self.bet\n",
    "    \n",
    "    def lose_bet(self):\n",
    "        self.total -= self.bet"
   ]
  },
  {
   "cell_type": "markdown",
   "id": "82debf61",
   "metadata": {},
   "source": [
    "Now we are going to write a function to ask the player how much they want to bet and whether if player's bet can be covered by their available chips or not!\n",
    "\n"
   ]
  },
  {
   "cell_type": "code",
   "execution_count": 8,
   "id": "0b8d68f1",
   "metadata": {},
   "outputs": [],
   "source": [
    "def take_bet(chips):\n",
    "    \n",
    "    while True:\n",
    "        try:\n",
    "            chips.bet = int(input('How many chips would you like to bet? '))\n",
    "        except ValueError:\n",
    "            print('Sorry, a bet must be an integer!')\n",
    "        else:\n",
    "            if chips.bet > chips.total:\n",
    "                print(\"Sorry, your bet can't exceed\",chips.total)\n",
    "            else:\n",
    "                break"
   ]
  },
  {
   "cell_type": "markdown",
   "id": "bf3ef577",
   "metadata": {},
   "source": [
    "In the next step we are writing a function for taking hits\n",
    "\n"
   ]
  },
  {
   "cell_type": "code",
   "execution_count": 9,
   "id": "ec629f3c",
   "metadata": {},
   "outputs": [],
   "source": [
    "def hit(deck,hand):\n",
    "    \n",
    "    hand.add_card(deck.deal())\n",
    "    hand.adjust_for_ace()"
   ]
  },
  {
   "cell_type": "markdown",
   "id": "3c85aaae",
   "metadata": {},
   "source": [
    "Now we can write a function prompting the Player to either Hit or Stand\n",
    "\n"
   ]
  },
  {
   "cell_type": "code",
   "execution_count": 11,
   "id": "bf1713ca",
   "metadata": {},
   "outputs": [],
   "source": [
    "def hit_or_stand(deck,hand):\n",
    "    global playing  # to control an upcoming while loop\n",
    "    \n",
    "    while True:\n",
    "        x = input(\"Would you like to Hit or Stand? Enter 'h' or 's' \")\n",
    "        \n",
    "        if x[0].lower() == 'h':\n",
    "            hit(deck,hand)  # hit() function defined above\n",
    "\n",
    "        elif x[0].lower() == 's':\n",
    "            print(\"Player stands. Dealer is playing.\")\n",
    "            playing = False\n",
    "\n",
    "        else:\n",
    "            print(\"Sorry, please try again.\")\n",
    "            continue\n",
    "        break"
   ]
  },
  {
   "cell_type": "markdown",
   "id": "de44ac48",
   "metadata": {},
   "source": [
    "The next functions will display cards in any time of the game that is required\n",
    "\n"
   ]
  },
  {
   "cell_type": "code",
   "execution_count": 12,
   "id": "827dd014",
   "metadata": {},
   "outputs": [],
   "source": [
    "def show_some(player,dealer):\n",
    "    print(\"\\nDealer's Hand:\")\n",
    "    print(\" <card hidden>\")\n",
    "    print('',dealer.cards[1])  \n",
    "    print(\"\\nPlayer's Hand:\", *player.cards, sep='\\n ')\n",
    "    \n",
    "def show_all(player,dealer):\n",
    "    print(\"\\nDealer's Hand:\", *dealer.cards, sep='\\n ')\n",
    "    print(\"Dealer's Hand =\",dealer.value)\n",
    "    print(\"\\nPlayer's Hand:\", *player.cards, sep='\\n ')\n",
    "    print(\"Player's Hand =\",player.value)"
   ]
  },
  {
   "cell_type": "markdown",
   "id": "1221d904",
   "metadata": {},
   "source": [
    "In the next step we'll write functions to handle end of game scenarios\n",
    "\n"
   ]
  },
  {
   "cell_type": "code",
   "execution_count": 13,
   "id": "ded69dd7",
   "metadata": {},
   "outputs": [],
   "source": [
    "def player_busts(player,dealer,chips):\n",
    "    print(\"Player busts!\")\n",
    "    chips.lose_bet()\n",
    "\n",
    "def player_wins(player,dealer,chips):\n",
    "    print(\"Player wins!\")\n",
    "    chips.win_bet()\n",
    "\n",
    "def dealer_busts(player,dealer,chips):\n",
    "    print(\"Dealer busts!\")\n",
    "    chips.win_bet()\n",
    "    \n",
    "def dealer_wins(player,dealer,chips):\n",
    "    print(\"Dealer wins!\")\n",
    "    chips.lose_bet()\n",
    "    \n",
    "def push(player,dealer):\n",
    "    print(\"Dealer and Player tie! It's a push.\")"
   ]
  },
  {
   "cell_type": "markdown",
   "id": "1879b3ad",
   "metadata": {},
   "source": [
    "The final and the last part which the logic of the game happens\n",
    "\n"
   ]
  },
  {
   "cell_type": "code",
   "execution_count": 14,
   "id": "636f9ef9",
   "metadata": {},
   "outputs": [
    {
     "name": "stdout",
     "output_type": "stream",
     "text": [
      "Welcome to BlackJack! Get as close to 21 as you can without going over!\n",
      "    Dealer hits until she reaches 17. Aces count as 1 or 11.\n",
      "How many chips would you like to bet? 300\n",
      "Sorry, your bet can't exceed 100\n",
      "How many chips would you like to bet? 98\n",
      "\n",
      "Dealer's Hand:\n",
      " <card hidden>\n",
      " Ace of Spades\n",
      "\n",
      "Player's Hand:\n",
      " Seven of Hearts\n",
      " Two of Clubs\n",
      "Would you like to Hit or Stand? Enter 'h' or 's' hiiuo\n",
      "\n",
      "Dealer's Hand:\n",
      " <card hidden>\n",
      " Ace of Spades\n",
      "\n",
      "Player's Hand:\n",
      " Seven of Hearts\n",
      " Two of Clubs\n",
      " Four of Clubs\n",
      "Would you like to Hit or Stand? Enter 'h' or 's' h\n",
      "\n",
      "Dealer's Hand:\n",
      " <card hidden>\n",
      " Ace of Spades\n",
      "\n",
      "Player's Hand:\n",
      " Seven of Hearts\n",
      " Two of Clubs\n",
      " Four of Clubs\n",
      " King of Hearts\n",
      "Player busts!\n",
      "\n",
      "Player's winnings stand at 2\n",
      "Would you like to play another hand? Enter 'y' or 'n' y\n",
      "Welcome to BlackJack! Get as close to 21 as you can without going over!\n",
      "    Dealer hits until she reaches 17. Aces count as 1 or 11.\n",
      "How many chips would you like to bet? 50\n",
      "\n",
      "Dealer's Hand:\n",
      " <card hidden>\n",
      " Five of Hearts\n",
      "\n",
      "Player's Hand:\n",
      " Three of Clubs\n",
      " Four of Hearts\n",
      "Would you like to Hit or Stand? Enter 'h' or 's' h\n",
      "\n",
      "Dealer's Hand:\n",
      " <card hidden>\n",
      " Five of Hearts\n",
      "\n",
      "Player's Hand:\n",
      " Three of Clubs\n",
      " Four of Hearts\n",
      " Jack of Spades\n",
      "Would you like to Hit or Stand? Enter 'h' or 's' s\n",
      "Player stands. Dealer is playing.\n",
      "\n",
      "Dealer's Hand:\n",
      " <card hidden>\n",
      " Five of Hearts\n",
      "\n",
      "Player's Hand:\n",
      " Three of Clubs\n",
      " Four of Hearts\n",
      " Jack of Spades\n",
      "\n",
      "Dealer's Hand:\n",
      " Five of Clubs\n",
      " Five of Hearts\n",
      " Eight of Hearts\n",
      "Dealer's Hand = 18\n",
      "\n",
      "Player's Hand:\n",
      " Three of Clubs\n",
      " Four of Hearts\n",
      " Jack of Spades\n",
      "Player's Hand = 17\n",
      "Dealer wins!\n",
      "\n",
      "Player's winnings stand at 50\n",
      "Would you like to play another hand? Enter 'y' or 'n' n\n",
      "Thanks for playing!\n"
     ]
    }
   ],
   "source": [
    "while True:\n",
    "    # Print an opening statement\n",
    "    print('Welcome to BlackJack! Get as close to 21 as you can without going over!\\n\\\n",
    "    Dealer hits until she reaches 17. Aces count as 1 or 11.')\n",
    "    \n",
    "    # Create & shuffle the deck, deal two cards to each player\n",
    "    deck = Deck()\n",
    "    deck.shuffle()\n",
    "    \n",
    "    player_hand = Hand()\n",
    "    player_hand.add_card(deck.deal())\n",
    "    player_hand.add_card(deck.deal())\n",
    "    \n",
    "    dealer_hand = Hand()\n",
    "    dealer_hand.add_card(deck.deal())\n",
    "    dealer_hand.add_card(deck.deal())\n",
    "            \n",
    "    # Set up the Player's chips\n",
    "    player_chips = Chips()  # remember the default value is 100    \n",
    "    \n",
    "    # Prompt the Player for their bet\n",
    "    take_bet(player_chips)\n",
    "    \n",
    "    # Show cards (but keep one dealer card hidden)\n",
    "    show_some(player_hand,dealer_hand)\n",
    "    \n",
    "    while playing:  # recall this variable from our hit_or_stand function\n",
    "        \n",
    "        # Prompt for Player to Hit or Stand\n",
    "        hit_or_stand(deck,player_hand) \n",
    "        \n",
    "        # Show cards (but keep one dealer card hidden)\n",
    "        show_some(player_hand,dealer_hand)  \n",
    "        \n",
    "        # If player's hand exceeds 21, run player_busts() and break out of loop\n",
    "        if player_hand.value > 21:\n",
    "            player_busts(player_hand,dealer_hand,player_chips)\n",
    "            break        \n",
    "\n",
    "\n",
    "    # If Player hasn't busted, play Dealer's hand until Dealer reaches 17 \n",
    "    if player_hand.value <= 21:\n",
    "        \n",
    "        while dealer_hand.value < 17:\n",
    "            hit(deck,dealer_hand)    \n",
    "    \n",
    "        # Show all cards\n",
    "        show_all(player_hand,dealer_hand)\n",
    "        \n",
    "        # Run different winning scenarios\n",
    "        if dealer_hand.value > 21:\n",
    "            dealer_busts(player_hand,dealer_hand,player_chips)\n",
    "\n",
    "        elif dealer_hand.value > player_hand.value:\n",
    "            dealer_wins(player_hand,dealer_hand,player_chips)\n",
    "\n",
    "        elif dealer_hand.value < player_hand.value:\n",
    "            player_wins(player_hand,dealer_hand,player_chips)\n",
    "\n",
    "        else:\n",
    "            push(player_hand,dealer_hand)        \n",
    "    \n",
    "    # Inform Player of their chips total \n",
    "    print(\"\\nPlayer's winnings stand at\",player_chips.total)\n",
    "    \n",
    "    # Ask to play again\n",
    "    new_game = input(\"Would you like to play another hand? Enter 'y' or 'n' \")\n",
    "    \n",
    "    if new_game[0].lower()=='y':\n",
    "        playing=True\n",
    "        continue\n",
    "    else:\n",
    "        print(\"Thanks for playing!\")\n",
    "        break"
   ]
  },
  {
   "cell_type": "code",
   "execution_count": null,
   "id": "40cfb4c3",
   "metadata": {},
   "outputs": [],
   "source": []
  }
 ],
 "metadata": {
  "kernelspec": {
   "display_name": "Python 3 (ipykernel)",
   "language": "python",
   "name": "python3"
  },
  "language_info": {
   "codemirror_mode": {
    "name": "ipython",
    "version": 3
   },
   "file_extension": ".py",
   "mimetype": "text/x-python",
   "name": "python",
   "nbconvert_exporter": "python",
   "pygments_lexer": "ipython3",
   "version": "3.9.7"
  }
 },
 "nbformat": 4,
 "nbformat_minor": 5
}
