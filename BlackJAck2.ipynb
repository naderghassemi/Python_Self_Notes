{
 "cells": [
  {
   "cell_type": "markdown",
   "id": "101b65f6",
   "metadata": {},
   "source": [
    "# BlackJack"
   ]
  },
  {
   "cell_type": "markdown",
   "id": "6d7c47ab",
   "metadata": {},
   "source": [
    "Similar to the real game each deck has four suits and thirteen ranks for a total of 52 cards. FAace cards (Jack, Queen, and King) all have the value or rank of 10. However, Ace can have either 11 or 1 (depending on whichever is suitable for the winning). The point of the game is to reach as close to 21 as (player or dealer without going over! more information can be found here : https://en.wikipedia.org/wiki/Blackjack\n",
    "\n",
    "IT must be noted that this is slightly simplified version.\n",
    "\n",
    "Initially we are going to assign variables to store a list of suits, ranks, and then use a dictionary to map ranks to values.\n",
    "\n"
   ]
  },
  {
   "cell_type": "code",
   "execution_count": 1,
   "id": "c2f1016f",
   "metadata": {},
   "outputs": [],
   "source": [
    "import random\n",
    "\n",
    "Suits=(\"Diamonds\", \"Hearts\",\"Clubs\",\"Spades\")\n",
    "Ranks=(\"Two\", \"Three\", \"Four\", \"Five\", \"Six\", \"Seven\", \"Eight\", \"Nine\", \"Ten\", \"Jack\", \"Queen\", \"King\", \"Ace\")\n",
    "playing=True\n",
    "Values={\"Two\": 2, \"Three\": 3, \"Four\": 4, \"Five\": 5, \"Six\": 6, \"Seven\": 7, \n",
    "        \"Eight\": 8, \"Nine\": 9, \"Ten\": 10, \"Jack\": 10, \"Queen\": 10, \"King\": 10, \"Ace\": 11}"
   ]
  },
  {
   "cell_type": "markdown",
   "id": "a14add28",
   "metadata": {},
   "source": [
    "Then we are going to make the Card objects as follows:\n",
    "    "
   ]
  },
  {
   "cell_type": "code",
   "execution_count": 2,
   "id": "6fe48bb3",
   "metadata": {},
   "outputs": [],
   "source": [
    "class Card():\n",
    "    \n",
    "    def __init__(self, suit,rank):\n",
    "        self.suit=suit\n",
    "        self.rank=rank\n",
    "        self.value=Values[rank]\n",
    "        \n",
    "        \n",
    "    def __str__(self):\n",
    "        return self.rank+\" of \"+self.suit"
   ]
  },
  {
   "cell_type": "markdown",
   "id": "91fd2128",
   "metadata": {},
   "source": [
    "Now we have everything we need to make our deck"
   ]
  },
  {
   "cell_type": "code",
   "execution_count": 3,
   "id": "0f1ceb0f",
   "metadata": {},
   "outputs": [],
   "source": [
    "class Deck():\n",
    "    \n",
    "    def __init__(self):\n",
    "        self.deck=[]\n",
    "        for suit in Suits:\n",
    "            for rank in Ranks:\n",
    "                self.deck.append(Card(suit,rank))\n",
    "                \n",
    "    def shuffle (self):\n",
    "        random.shuffle(self.deck)\n",
    "        \n",
    "    def deal(self):\n",
    "        return self.deck.pop()\n",
    "    \n",
    "    def __str__(self):\n",
    "        dec=\"\"\n",
    "        for cards in self.deck:\n",
    "            dec+=\"\\n\"+cards.__str__()\n",
    "        return f\"The deck currently has {len(self.deck)} cards and they are:\"+dec"
   ]
  },
  {
   "cell_type": "markdown",
   "id": "d9f962b1",
   "metadata": {},
   "source": [
    "We can test our deck and see if it is working"
   ]
  },
  {
   "cell_type": "code",
   "execution_count": 4,
   "id": "94ae39e8",
   "metadata": {},
   "outputs": [
    {
     "name": "stdout",
     "output_type": "stream",
     "text": [
      "The deck currently has 52 cards and they are:\n",
      "King of Clubs\n",
      "Five of Diamonds\n",
      "Seven of Hearts\n",
      "Ace of Spades\n",
      "Four of Diamonds\n",
      "King of Diamonds\n",
      "Eight of Clubs\n",
      "Queen of Diamonds\n",
      "Six of Spades\n",
      "Jack of Diamonds\n",
      "Four of Clubs\n",
      "Seven of Diamonds\n",
      "Six of Clubs\n",
      "Two of Diamonds\n",
      "Eight of Spades\n",
      "Two of Spades\n",
      "Eight of Hearts\n",
      "Jack of Spades\n",
      "Three of Spades\n",
      "Jack of Hearts\n",
      "Six of Diamonds\n",
      "Eight of Diamonds\n",
      "Six of Hearts\n",
      "Nine of Hearts\n",
      "Four of Hearts\n",
      "Jack of Clubs\n",
      "Two of Hearts\n",
      "Nine of Clubs\n",
      "Three of Clubs\n",
      "Five of Clubs\n",
      "Seven of Spades\n",
      "Ten of Clubs\n",
      "Nine of Diamonds\n",
      "Ten of Hearts\n",
      "Queen of Clubs\n",
      "Nine of Spades\n",
      "Queen of Spades\n",
      "Five of Spades\n",
      "Three of Diamonds\n",
      "Three of Hearts\n",
      "Ace of Diamonds\n",
      "Ace of Clubs\n",
      "King of Hearts\n",
      "Two of Clubs\n",
      "Queen of Hearts\n",
      "Four of Spades\n",
      "Seven of Clubs\n",
      "Ace of Hearts\n",
      "Ten of Spades\n",
      "Five of Hearts\n",
      "Ten of Diamonds\n",
      "King of Spades\n"
     ]
    }
   ],
   "source": [
    "new_deck=Deck()\n",
    "new_deck.shuffle()\n",
    "print(new_deck)"
   ]
  },
  {
   "cell_type": "markdown",
   "id": "df58081b",
   "metadata": {},
   "source": [
    "Seems working. So we move forward by creating the players hands (so technically we are going to make two hands or players, player and the dealer)."
   ]
  },
  {
   "cell_type": "code",
   "execution_count": 5,
   "id": "7a920f8d",
   "metadata": {},
   "outputs": [],
   "source": [
    "class Hand():\n",
    "    \n",
    "    def __init__(self):\n",
    "        self.cards=[]\n",
    "        self.value=0\n",
    "        self.aces=0\n",
    "        \n",
    "        \n",
    "    def add_card(self, card):\n",
    "        self.cards.append(card)\n",
    "        self.value +=Values[card.rank]\n",
    "        \n",
    "    def adjust_for_ace(self):\n",
    "        \n",
    "        while True:\n",
    "            if self.value > 21 and self.aces:\n",
    "                self.value -=10\n",
    "                self.aces -=1\n",
    "        "
   ]
  },
  {
   "cell_type": "markdown",
   "id": "b92d403b",
   "metadata": {},
   "source": [
    "We can test and see if it works or not which I already test it and it is WORKING :)"
   ]
  },
  {
   "cell_type": "markdown",
   "id": "e23a4592",
   "metadata": {},
   "source": [
    "Now we are moving forward with making the chips"
   ]
  },
  {
   "cell_type": "code",
   "execution_count": 6,
   "id": "c0d75418",
   "metadata": {},
   "outputs": [],
   "source": [
    "class Chips():\n",
    "    \n",
    "    \n",
    "    def __init__(self,total=100):\n",
    "        self.total = total\n",
    "        self.bet = 0\n",
    "        \n",
    "    def win_bet(self):\n",
    "        self.total += self.bet\n",
    "        \n",
    "    def lose_bet(self):\n",
    "        self.total -= self.bet"
   ]
  },
  {
   "cell_type": "markdown",
   "id": "01552ca5",
   "metadata": {},
   "source": [
    "Now we are going to write a function to ask the player how much they want to bet and whether if player's bet can be covered by their available chips or not!"
   ]
  },
  {
   "cell_type": "code",
   "execution_count": 7,
   "id": "d07e0b21",
   "metadata": {},
   "outputs": [],
   "source": [
    "def take_bet(chips):\n",
    "    \n",
    "    while True:\n",
    "        try:\n",
    "            chips.bet=int(input(\"How much chips do you want to bet? \"))\n",
    "        except:\n",
    "            print(\"Sorry, please enter an integer number as chips ar integer!\")\n",
    "        else:\n",
    "            if chips.bet > chips.total:\n",
    "                print(f\"Sorry! your chips bet can't exceed {chips.total}!\")\n",
    "            else:\n",
    "                break\n",
    "            "
   ]
  },
  {
   "cell_type": "markdown",
   "id": "b5dcd32f",
   "metadata": {},
   "source": [
    "In the next step we are writing a function for taking hits "
   ]
  },
  {
   "cell_type": "code",
   "execution_count": 8,
   "id": "265202b2",
   "metadata": {},
   "outputs": [],
   "source": [
    "def hit(deck, hand):\n",
    "    hand.add_card(deck.deal())\n",
    "    hand.adjust_for_ace()"
   ]
  },
  {
   "cell_type": "markdown",
   "id": "c9ba774e",
   "metadata": {},
   "source": [
    "Now we can write a function prompting the Player to either Hit or Stand"
   ]
  },
  {
   "cell_type": "code",
   "execution_count": 9,
   "id": "468c18b4",
   "metadata": {},
   "outputs": [],
   "source": [
    "def hit_or_stand(deck,hand):\n",
    "    global playing\n",
    "    \n",
    "    while True:\n",
    "        x= input(\"Would you like to Hit or Stand? enter 'h'/'s'\")\n",
    "        \n",
    "        if x[0].lower()==\"h\":\n",
    "            hit(deck,hand)\n",
    "            \n",
    "        elif x[0].lower()==\"s\":\n",
    "            print(\"Player stand. Dealer is playing\")\n",
    "            playing= False\n",
    "            \n",
    "        else:\n",
    "            print(\"Sorry, please try again\")\n",
    "            continue\n",
    "            \n",
    "        break\n",
    "            "
   ]
  },
  {
   "cell_type": "markdown",
   "id": "7fa2479c",
   "metadata": {},
   "source": [
    "The next functions will display cards in any time of the game that is required"
   ]
  },
  {
   "cell_type": "code",
   "execution_count": 10,
   "id": "cf9b08e9",
   "metadata": {},
   "outputs": [],
   "source": [
    "def show_some(player, dealer):\n",
    "    print(\"\\nDealer's Hand: \")\n",
    "    print(\"///card is hidden///\")\n",
    "    print(\"\", dealer.cards[1])\n",
    "    print(\"\\nPlayer's Hand:\",*player.cards,sep=\"\\n\")\n",
    "    \n",
    "def show_all(player,dealer):\n",
    "    print(\"\\nDealer's Hand: \", *dealer.cards,)\n",
    "    print(\"Dealer's Hand value=\", dealer.value)\n",
    "    print(\"\\nPlayer's Hand:\",*player.cards,sep=\"\\n\")\n",
    "    print(\"Player's Hand value:\",player.value)"
   ]
  },
  {
   "cell_type": "markdown",
   "id": "389e4836",
   "metadata": {},
   "source": [
    "In the next step we'll write functions to handle end of game scenarios"
   ]
  },
  {
   "cell_type": "code",
   "execution_count": 11,
   "id": "853b361f",
   "metadata": {},
   "outputs": [],
   "source": [
    "def player_busts(player,dealer,chips):\n",
    "    print(\"Player busts!\")\n",
    "    chips.lose_bet()\n",
    "\n",
    "def player_wins(player,dealer,chips):\n",
    "    print(\"Player wins!\")\n",
    "    chips.win_bet()\n",
    "\n",
    "def dealer_busts(player,dealer,chips):\n",
    "    print(\"Dealer busts!\")\n",
    "    chips.win_bet()\n",
    "    \n",
    "def dealer_wins(player,dealer,chips):\n",
    "    print(\"Dealer wins!\")\n",
    "    chips.lose_bet()\n",
    "    \n",
    "def push(player,dealer):\n",
    "    print(\"Dealer and Player tie! It's a push.\")"
   ]
  },
  {
   "cell_type": "markdown",
   "id": "d89caa2b",
   "metadata": {},
   "source": [
    "The final and the last part which the logic of the game happens"
   ]
  },
  {
   "cell_type": "code",
   "execution_count": null,
   "id": "9c4b4ecc",
   "metadata": {},
   "outputs": [
    {
     "name": "stdout",
     "output_type": "stream",
     "text": [
      "Welcome to the game of BlackJack! In order to win you need to get as close to 21 as you can without going over!\n",
      "    Dealer hits until she reaches 17. Aces count as 1 or 11.\n",
      "How much chips do you want to bet? 10\n",
      "\n",
      "Dealer's Hand: \n",
      "///card is hidden///\n",
      " Seven of Hearts\n",
      "\n",
      "Player's Hand:\n",
      "Nine of Hearts\n",
      "Eight of Hearts\n",
      "Would you like to Hit or Stand? enter 'h'/'s'h\n"
     ]
    }
   ],
   "source": [
    "while True:\n",
    "    # Print an opening statement\n",
    "    print('Welcome to the game of BlackJack! In order to win you need to get as close to 21 as you can without going over!\\n\\\n",
    "    Dealer hits until she reaches 17. Aces count as 1 or 11.')\n",
    "    \n",
    "    # Create & shuffle the deck, deal two cards to each player\n",
    "    deck = Deck()\n",
    "    deck.shuffle()\n",
    "    \n",
    "    player_hand = Hand()\n",
    "    player_hand.add_card(deck.deal())\n",
    "    player_hand.add_card(deck.deal())\n",
    "    \n",
    "    dealer_hand = Hand()\n",
    "    dealer_hand.add_card(deck.deal())\n",
    "    dealer_hand.add_card(deck.deal())\n",
    "            \n",
    "    # Set up the Player's chips\n",
    "    player_chips = Chips()  # remember the default value is 100    \n",
    "    \n",
    "    # Prompt the Player for their bet\n",
    "    take_bet(player_chips)\n",
    "    \n",
    "    # Show cards (but keep one dealer card hidden)\n",
    "    show_some(player_hand,dealer_hand)\n",
    "    \n",
    "    while playing:  # recall this variable from our hit_or_stand function\n",
    "        \n",
    "        # Prompt for Player to Hit or Stand\n",
    "        hit_or_stand(deck,player_hand) \n",
    "        \n",
    "        # Show cards (but keep one dealer card hidden)\n",
    "        show_some(player_hand,dealer_hand)  \n",
    "        \n",
    "        # If player's hand exceeds 21, run player_busts() and break out of loop\n",
    "        if player_hand.value > 21:\n",
    "            player_busts(player_hand,dealer_hand,player_chips)\n",
    "            break        \n",
    "\n",
    "\n",
    "    # If Player hasn't busted, play Dealer's hand until Dealer reaches 17 \n",
    "    if player_hand.value <= 21:\n",
    "        \n",
    "        while dealer_hand.value < 17:\n",
    "            hit(deck,dealer_hand)    \n",
    "    \n",
    "        # Show all cards\n",
    "        show_all(player_hand,dealer_hand)\n",
    "        \n",
    "        # Run different winning scenarios\n",
    "        if dealer_hand.value > 21:\n",
    "            dealer_busts(player_hand,dealer_hand,player_chips)\n",
    "\n",
    "        elif dealer_hand.value > player_hand.value:\n",
    "            dealer_wins(player_hand,dealer_hand,player_chips)\n",
    "\n",
    "        elif dealer_hand.value < player_hand.value:\n",
    "            player_wins(player_hand,dealer_hand,player_chips)\n",
    "\n",
    "        else:\n",
    "            push(player_hand,dealer_hand)        \n",
    "    \n",
    "    # Inform Player of their chips total \n",
    "    print(\"\\nPlayer's winnings stand at\",player_chips.total)\n",
    "    \n",
    "    # Ask to play again\n",
    "    new_game = input(\"Would you like to play another hand? Enter 'y' or 'n' \")\n",
    "    \n",
    "    if new_game[0].lower()=='y':\n",
    "        playing=True\n",
    "        continue\n",
    "    else:\n",
    "        print(\"Thanks for playing!\")\n",
    "        break"
   ]
  },
  {
   "cell_type": "code",
   "execution_count": null,
   "id": "b160a099",
   "metadata": {},
   "outputs": [],
   "source": []
  },
  {
   "cell_type": "code",
   "execution_count": null,
   "id": "ae3e1b11",
   "metadata": {},
   "outputs": [],
   "source": []
  },
  {
   "cell_type": "code",
   "execution_count": null,
   "id": "63766b1b",
   "metadata": {},
   "outputs": [],
   "source": []
  },
  {
   "cell_type": "code",
   "execution_count": null,
   "id": "72e0a681",
   "metadata": {},
   "outputs": [],
   "source": []
  },
  {
   "cell_type": "code",
   "execution_count": null,
   "id": "3fb200b4",
   "metadata": {},
   "outputs": [],
   "source": []
  },
  {
   "cell_type": "code",
   "execution_count": null,
   "id": "afa8a22f",
   "metadata": {},
   "outputs": [],
   "source": []
  },
  {
   "cell_type": "code",
   "execution_count": null,
   "id": "d91c42ee",
   "metadata": {},
   "outputs": [],
   "source": []
  },
  {
   "cell_type": "code",
   "execution_count": null,
   "id": "3c10da31",
   "metadata": {},
   "outputs": [],
   "source": []
  },
  {
   "cell_type": "code",
   "execution_count": null,
   "id": "b1ee1fa5",
   "metadata": {},
   "outputs": [],
   "source": []
  },
  {
   "cell_type": "code",
   "execution_count": null,
   "id": "866673aa",
   "metadata": {},
   "outputs": [],
   "source": []
  },
  {
   "cell_type": "code",
   "execution_count": null,
   "id": "72f11dd2",
   "metadata": {},
   "outputs": [],
   "source": []
  }
 ],
 "metadata": {
  "kernelspec": {
   "display_name": "Python 3 (ipykernel)",
   "language": "python",
   "name": "python3"
  },
  "language_info": {
   "codemirror_mode": {
    "name": "ipython",
    "version": 3
   },
   "file_extension": ".py",
   "mimetype": "text/x-python",
   "name": "python",
   "nbconvert_exporter": "python",
   "pygments_lexer": "ipython3",
   "version": "3.9.7"
  }
 },
 "nbformat": 4,
 "nbformat_minor": 5
}
